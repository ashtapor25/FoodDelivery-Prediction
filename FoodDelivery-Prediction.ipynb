{
 "cells": [
  {
   "cell_type": "markdown",
   "metadata": {},
   "source": [
    "<div style=\"text-align:center;\"><h1>데이터 과학 Term Project</h1></div><br><br>\n",
    "<div style=\"text-align:right;\">\n",
    "        <ul style=\"list-style:none;\">\n",
    "            <li>2012120162 신준수</li>\n",
    "            <li>2014120108 정하람</li>\n",
    "            <li>2015410075 임경섭</li>\n",
    "            <li>2016320206 김효정</li>\n",
    "            <li>2016320221 김민재</li>\n",
    "        </ul>\n",
    "</div>\n",
    "\n",
    "# 배달 주문량 예측\n",
    "\n",
    "\n",
    "## Problem\n",
    "\n",
    "  최근에 요식업 창업이 증가하고 배달 어플리케이션이 생겨나면서 배달음식에 대한 수요가 크게 증가하고 있다. 그러나 포화된 시장 속에서 개별적인 경쟁력을 갖추지 못해 폐업하는 비율도 상당하다. 이에 요식업에서 굉장히 중요한 이슈 중 하나인 '효율적인 재고 관리'를 위해 ‘배달 주문량을 예측’해보고자 한다. 날씨 데이터에만 의존했던 기존의 판매량 예측 모델과는 달리 다양한 특성들을 고려하여 보다 효과적인 모델을 설계해보고자 한다. \n",
    "\n",
    "## Expected Result\n",
    "\n",
    "  정해진 feature들을 이용해 당일 배달 주문량을 적절한 오차 범위 내로 예측할  수 있는 모델을 구축해내는 것이 프로젝트의 최종 목표이다. \n",
    "적절한 feature 선정(축소)을 위해 우선 heatmap과 PCA를 활용할 예정이고 그 외에도 여러 모델을 활용해 분석을 마친 뒤 최종 예측을 위해서는 Neural Network모델을 활용하여 학습시키고자 한다. \n",
    "여기서 구축해낸 모델을 통해 자영업자들은 효율적인 재고관리라는 이점을 얻을 수 있고 배달앱의 수수료로 인해 배달앱과의 제휴를 꺼려하는 자영업자 및 소상공인들에게 제휴를 장려하도록 하여 배달 요식업계의 상생을 기대할 수 있다. 특히 배달 주문량의 데이터가 서울시에서만 기록되어 있는데 이 모델을 지방 업계에도 적용하여 적절한 평가를 진행하고 지역별 자영업 불균형을 해소하는 효과를 기대할 수 있다."
   ]
  },
  {
   "cell_type": "markdown",
   "metadata": {},
   "source": [
    "## 1. Data Load"
   ]
  },
  {
   "cell_type": "markdown",
   "metadata": {},
   "source": [
    "1.target data: \n",
    "\n",
    "배달음식 주문량(skt 빅데이터 허브)\n",
    "\n",
    "2.features: \n",
    "\n",
    "날씨 요인: 풍속, 강수량, 습도, 기온, 미세먼지(기상청)\n",
    "\n",
    "경제 요인1: 기준금리(한국은행)\n",
    "\n",
    "경제 요인2: 시가총액, 코스피지수, 체감 물가상승률(한국 거래소)\n",
    "\n",
    "시간적 요인: 요일, 주말, 평일, 공휴일, 명절"
   ]
  },
  {
   "cell_type": "markdown",
   "metadata": {},
   "source": [
    "## 1.1 Preprocessing"
   ]
  },
  {
   "cell_type": "markdown",
   "metadata": {},
   "source": [
    "### 배달음식 주문량\n",
    "\n",
    "-> 날짜별로 주문량 합산\n",
    "\n"
   ]
  },
  {
   "cell_type": "markdown",
   "metadata": {},
   "source": [
    "### 주식데이터\n",
    "\n",
    "-> 휴일의 nan값 : \n",
    "\n",
    "앞, 뒤 데이터의 평균 값을 넣는 방법과 앞, 뒤 데이터로 nan 값을 채우는 방법 두 가지 선택지가 있었다.\n",
    "\n",
    "앞, 뒤 데이터로 nan 값을 채우는 것이 더 성능이 높게 나왔기에 이 방법을 선택하였고, 이는 주말의 이슈가 주식시장에 선행되어 반영되거나 장이 열린 후에 반영되는 경향으로 설명되는 것으로 보였다.\n",
    "\n",
    "(토요일엔 금요일 데이터로, 일요일엔 월요일 데이터로)\n",
    "\n",
    "\n",
    "### 날씨 데이터\n",
    "\n",
    "-> 강수량이나 적설량의 경우 관측되는 일수가 현저히 적고, 강수량과 적설량이 관측되지 않았기에 nan값으로 둔 것으로 보여 nan값을 0으로 채웠다.\n",
    "\n",
    "### 데이터 통합\n",
    " \n",
    "-> 전처리를 수행한 후에 날짜를 기준으로 모든 데이터를 통합하여 하나의 데이터 프레임으로 만들었다."
   ]
  },
  {
   "cell_type": "code",
   "execution_count": 1,
   "metadata": {},
   "outputs": [],
   "source": [
    "import pandas as pd\n",
    "import numpy as np\n",
    "import matplotlib.pyplot as plt\n",
    "%matplotlib inline\n",
    "from sklearn.preprocessing import robust_scale\n",
    "from sklearn.linear_model import LinearRegression\n",
    "from sklearn.metrics import explained_variance_score, mean_squared_error\n",
    "import seaborn as sns\n",
    "import matplotlib.pyplot as plt\n",
    "from sklearn.metrics import explained_variance_score, mean_squared_error\n",
    "from sklearn.neural_network import MLPRegressor\n",
    "from sklearn.model_selection import train_test_split\n",
    "from sklearn.metrics import confusion_matrix\n",
    "from sklearn.metrics import mean_squared_log_error\n",
    "from sklearn.preprocessing import normalize"
   ]
  },
  {
   "cell_type": "code",
   "execution_count": 2,
   "metadata": {},
   "outputs": [],
   "source": [
    "data = pd.read_csv('raw_data2.csv', engine='python')\n",
    "data = data.set_index('일자')\n",
    "data_index = pd.to_datetime(data.index, infer_datetime_format = True)\n",
    "data = data.reindex(data_index)"
   ]
  },
  {
   "cell_type": "code",
   "execution_count": 3,
   "metadata": {},
   "outputs": [
    {
     "data": {
      "text/html": [
       "<div>\n",
       "<style scoped>\n",
       "    .dataframe tbody tr th:only-of-type {\n",
       "        vertical-align: middle;\n",
       "    }\n",
       "\n",
       "    .dataframe tbody tr th {\n",
       "        vertical-align: top;\n",
       "    }\n",
       "\n",
       "    .dataframe thead th {\n",
       "        text-align: right;\n",
       "    }\n",
       "</style>\n",
       "<table border=\"1\" class=\"dataframe\">\n",
       "  <thead>\n",
       "    <tr style=\"text-align: right;\">\n",
       "      <th></th>\n",
       "      <th>통화건수</th>\n",
       "      <th>한국은행 기준금리</th>\n",
       "      <th>지점</th>\n",
       "      <th>평균기온(°C)</th>\n",
       "      <th>최저기온(°C)</th>\n",
       "      <th>최고기온(°C)</th>\n",
       "      <th>일강수량(mm)</th>\n",
       "      <th>최대 순간 풍속(m/s)</th>\n",
       "      <th>평균 풍속(m/s)</th>\n",
       "      <th>평균 상대습도(%)</th>\n",
       "      <th>1시간 최다일사량(MJ/m2)</th>\n",
       "      <th>일 최심신적설(cm)</th>\n",
       "      <th>KOSPI지수</th>\n",
       "      <th>KOSDAQ지수</th>\n",
       "    </tr>\n",
       "    <tr>\n",
       "      <th>일자</th>\n",
       "      <th></th>\n",
       "      <th></th>\n",
       "      <th></th>\n",
       "      <th></th>\n",
       "      <th></th>\n",
       "      <th></th>\n",
       "      <th></th>\n",
       "      <th></th>\n",
       "      <th></th>\n",
       "      <th></th>\n",
       "      <th></th>\n",
       "      <th></th>\n",
       "      <th></th>\n",
       "      <th></th>\n",
       "    </tr>\n",
       "  </thead>\n",
       "  <tbody>\n",
       "    <tr>\n",
       "      <th>2013-12-01</th>\n",
       "      <td>62631</td>\n",
       "      <td>2.5</td>\n",
       "      <td>108</td>\n",
       "      <td>4.5</td>\n",
       "      <td>1.4</td>\n",
       "      <td>8.6</td>\n",
       "      <td>0.0</td>\n",
       "      <td>6.9</td>\n",
       "      <td>2.1</td>\n",
       "      <td>66.9</td>\n",
       "      <td>1.57</td>\n",
       "      <td>0.0</td>\n",
       "      <td>2030.78</td>\n",
       "      <td>512.69</td>\n",
       "    </tr>\n",
       "    <tr>\n",
       "      <th>2013-12-02</th>\n",
       "      <td>35513</td>\n",
       "      <td>2.5</td>\n",
       "      <td>108</td>\n",
       "      <td>3.9</td>\n",
       "      <td>0.1</td>\n",
       "      <td>6.6</td>\n",
       "      <td>0.0</td>\n",
       "      <td>5.2</td>\n",
       "      <td>1.4</td>\n",
       "      <td>64.3</td>\n",
       "      <td>0.53</td>\n",
       "      <td>0.0</td>\n",
       "      <td>2030.78</td>\n",
       "      <td>512.69</td>\n",
       "    </tr>\n",
       "    <tr>\n",
       "      <th>2013-12-03</th>\n",
       "      <td>38600</td>\n",
       "      <td>2.5</td>\n",
       "      <td>108</td>\n",
       "      <td>6.7</td>\n",
       "      <td>4.5</td>\n",
       "      <td>9.9</td>\n",
       "      <td>0.0</td>\n",
       "      <td>7.7</td>\n",
       "      <td>1.6</td>\n",
       "      <td>62.6</td>\n",
       "      <td>1.29</td>\n",
       "      <td>0.0</td>\n",
       "      <td>2009.36</td>\n",
       "      <td>508.16</td>\n",
       "    </tr>\n",
       "    <tr>\n",
       "      <th>2013-12-04</th>\n",
       "      <td>40319</td>\n",
       "      <td>2.5</td>\n",
       "      <td>108</td>\n",
       "      <td>5.5</td>\n",
       "      <td>2.1</td>\n",
       "      <td>9.6</td>\n",
       "      <td>0.0</td>\n",
       "      <td>6.2</td>\n",
       "      <td>1.8</td>\n",
       "      <td>72.8</td>\n",
       "      <td>1.28</td>\n",
       "      <td>0.0</td>\n",
       "      <td>1986.80</td>\n",
       "      <td>506.28</td>\n",
       "    </tr>\n",
       "    <tr>\n",
       "      <th>2013-12-05</th>\n",
       "      <td>42425</td>\n",
       "      <td>2.5</td>\n",
       "      <td>108</td>\n",
       "      <td>5.5</td>\n",
       "      <td>2.1</td>\n",
       "      <td>9.0</td>\n",
       "      <td>0.0</td>\n",
       "      <td>6.9</td>\n",
       "      <td>2.4</td>\n",
       "      <td>73.4</td>\n",
       "      <td>0.87</td>\n",
       "      <td>0.0</td>\n",
       "      <td>1984.77</td>\n",
       "      <td>506.32</td>\n",
       "    </tr>\n",
       "  </tbody>\n",
       "</table>\n",
       "</div>"
      ],
      "text/plain": [
       "             통화건수  한국은행 기준금리   지점  평균기온(°C)  최저기온(°C)  최고기온(°C)  일강수량(mm)  \\\n",
       "일자                                                                          \n",
       "2013-12-01  62631        2.5  108       4.5       1.4       8.6       0.0   \n",
       "2013-12-02  35513        2.5  108       3.9       0.1       6.6       0.0   \n",
       "2013-12-03  38600        2.5  108       6.7       4.5       9.9       0.0   \n",
       "2013-12-04  40319        2.5  108       5.5       2.1       9.6       0.0   \n",
       "2013-12-05  42425        2.5  108       5.5       2.1       9.0       0.0   \n",
       "\n",
       "            최대 순간 풍속(m/s)  평균 풍속(m/s)  평균 상대습도(%)  1시간 최다일사량(MJ/m2)  \\\n",
       "일자                                                                    \n",
       "2013-12-01            6.9         2.1        66.9              1.57   \n",
       "2013-12-02            5.2         1.4        64.3              0.53   \n",
       "2013-12-03            7.7         1.6        62.6              1.29   \n",
       "2013-12-04            6.2         1.8        72.8              1.28   \n",
       "2013-12-05            6.9         2.4        73.4              0.87   \n",
       "\n",
       "            일 최심신적설(cm)  KOSPI지수  KOSDAQ지수  \n",
       "일자                                          \n",
       "2013-12-01          0.0  2030.78    512.69  \n",
       "2013-12-02          0.0  2030.78    512.69  \n",
       "2013-12-03          0.0  2009.36    508.16  \n",
       "2013-12-04          0.0  1986.80    506.28  \n",
       "2013-12-05          0.0  1984.77    506.32  "
      ]
     },
     "execution_count": 3,
     "metadata": {},
     "output_type": "execute_result"
    }
   ],
   "source": [
    "data.head()"
   ]
  },
  {
   "cell_type": "markdown",
   "metadata": {},
   "source": [
    "## 2. Feature Selection / Engineering"
   ]
  },
  {
   "cell_type": "markdown",
   "metadata": {},
   "source": [
    "### 2.1 Heatmap  \n",
    "\n",
    "Feature가 과도하게 많아지면 데이터 또한 많이 필요해지고 overfitting의 위험이 커지는 등의 차원의 저주가 발생할 수 있다. \n",
    "\n",
    "이를 방지하고 모델의 Feature중에서 데이터의 특성을 가장 잘 나타내는 주요 필드를 선택하기 위해 Heatmap을 사용했다.\n",
    "\n",
    "Heatmap의 결과를 보고 독립변수인 주문량(통화건수)과 연관성이 낮은 4가지 feature('지점', '최저기온(°C)', '최고기온(°C)', '최대 순간 풍속(m/s)')를 제거했다."
   ]
  },
  {
   "cell_type": "code",
   "execution_count": 4,
   "metadata": {},
   "outputs": [
    {
     "name": "stdout",
     "output_type": "stream",
     "text": [
      "사용가능한 TTF 폰트 개수: 741\n"
     ]
    },
    {
     "data": {
      "text/plain": [
       "['C:\\\\WINDOWS\\\\Fonts\\\\LTYPEO.TTF',\n",
       " 'C:\\\\WINDOWS\\\\Fonts\\\\ANTQUABI.TTF',\n",
       " 'C:\\\\Windows\\\\Fonts\\\\phagspab.ttf',\n",
       " 'C:\\\\WINDOWS\\\\Fonts\\\\georgiab.ttf',\n",
       " 'C:\\\\Windows\\\\Fonts\\\\JOKERMAN.TTF']"
      ]
     },
     "execution_count": 4,
     "metadata": {},
     "output_type": "execute_result"
    }
   ],
   "source": [
    "# 사용가능한 시스템의 TTF 폰트 목록\n",
    "import matplotlib.font_manager as font_manager\n",
    "\n",
    "font_list = font_manager.findSystemFonts(fontpaths=None, fontext='ttf')\n",
    "\n",
    "print('사용가능한 TTF 폰트 개수:', len(font_list))\n",
    "font_list[:5] # 목록에서 처음 10 개만 보기"
   ]
  },
  {
   "cell_type": "code",
   "execution_count": 5,
   "metadata": {},
   "outputs": [],
   "source": [
    "#font_path = 'C:/Windows/Fonts/EBS훈민정음R.ttf'\n",
    "#fontprop = fm.FontProperties(fname=font_path, size=18)\n",
    "\n",
    "#plt.ylabel('가격', fontproperties=fontprop)\n",
    "#plt.title('가격변동 추이', fontproperties=fontprop)\n",
    "\n",
    "def Heatmap():\n",
    "    fontprop = font_manager.FontProperties(fname=\"NanumBarunpenB.ttf\", size=24)\n",
    "    font_fname =  'C:\\\\WINDOWS\\\\Fonts\\\\NanumBarunpenB.ttf'\n",
    "    font_family = font_manager.FontProperties(fname=font_fname).get_name()\n",
    "\n",
    "    plt.rcParams[\"font.family\"] = font_family\n",
    "    #plt.rcParams[\"font.family\"] = 'NanumBarunpenB'\n",
    "    plt.rcParams[\"font.size\"] = 5\n",
    "    #plt.rcParams[\"figure.figsize\"] = (15,4)\n",
    "\n",
    "    # 그래프의 크기 지정\n",
    "    plt.figure(figsize=(8, 8))\n",
    "\n",
    "    # Heatmap 설정\n",
    "    sns.heatmap(data.corr(), linewidths=0.1, vmax=0.5, cmap=plt.cm.gist_heat,\n",
    "            linecolor='white', annot=True)\n",
    "\n",
    "    # 렌더링\n",
    "    #plt.legend()\n",
    "    #plt.legend(prop={'family':'NanumBarunpenB', 'size':20})\n",
    "    #plt.ylabel(data.columns,fontproperties=fontprop)\n",
    "    plt.show()"
   ]
  },
  {
   "cell_type": "code",
   "execution_count": 6,
   "metadata": {
    "scrolled": false
   },
   "outputs": [
    {
     "data": {
      "image/png": "[encoded data removed]",
      "text/plain": [
       "<Figure size 576x576 with 2 Axes>"
      ]
     },
     "metadata": {
      "needs_background": "light"
     },
     "output_type": "display_data"
    }
   ],
   "source": [
    "Heatmap()"
   ]
  },
  {
   "cell_type": "code",
   "execution_count": 7,
   "metadata": {},
   "outputs": [],
   "source": [
    "#연관성 적은 4개 제거\n",
    "data = data.drop(columns = ['지점', '최저기온(°C)', '최고기온(°C)', '최대 순간 풍속(m/s)'])"
   ]
  },
  {
   "cell_type": "markdown",
   "metadata": {},
   "source": [
    "## 2.2: Add Weekday Data\n",
    "\n",
    " 주말인지 평일인지, 무슨 요일인지에 따라 배달 주문량에 변화가 있을 것으로 판단해 one_hot_encoding 방식을 사용해 Feature에 Weekday Data를 추가했다."
   ]
  },
  {
   "cell_type": "code",
   "execution_count": 8,
   "metadata": {},
   "outputs": [],
   "source": [
    "day_of_week = pd.Series([x.weekday() for x in data.index], index = data.index)\n",
    "day_dummies = pd.get_dummies(day_of_week, prefix='weekday', drop_first=False)\n",
    "data = pd.concat([data, day_dummies], axis=1)"
   ]
  },
  {
   "cell_type": "markdown",
   "metadata": {},
   "source": [
    "## 2.3: Add Previous week Data\n",
    "\n",
    "### Base Feature\n",
    "\n",
    "기존의 주문량 예측 모델, 예측 성공률 50%, 평균 주문량 등 무엇을 Base Model로 정하는 것이 가장 좋을지 협의했다.\n",
    "\n",
    "해당날짜의 1~7일 전의 평균 주문량과 일주일 전 같은요일 주문량을 Base Model로 정했다. \n",
    "\n",
    "선택하게 된 이유는 연속적 성질을 지니고 있는 날씨, 경제적, 시간적 요인을 잘 설명해줄 수 있으며 직관적이기 때문이다."
   ]
  },
  {
   "cell_type": "code",
   "execution_count": 9,
   "metadata": {},
   "outputs": [],
   "source": [
    "target_data = data['통화건수']\n",
    "\n",
    "prev_week_avg_list = [np.nan] * 7\n",
    "prev_week = [np.nan] * 7\n",
    "for idx in range(7, len(target_data)):\n",
    "    avg = target_data.iloc[idx-7:idx].mean()\n",
    "    prev_week_avg_list.append(avg)\n",
    "    prev_week.append(target_data.iloc[idx-7])\n",
    "    \n",
    "prev_week_avg = pd.Series(prev_week_avg_list, index = data.index)\n",
    "prev_week = pd.Series(prev_week, index=data.index)\n",
    "prev_week_avg_fill = prev_week_avg.fillna(method='bfill')\n",
    "\n",
    "data = pd.concat([data, pd.DataFrame(prev_week_avg_fill, columns=['prev_week_avg'])], axis=1)"
   ]
  },
  {
   "cell_type": "markdown",
   "metadata": {},
   "source": [
    "## 2.4: Add Holiday Data\n",
    "\n",
    "공휴일과 명절에는 배달 주문량이 평소와는 다르게 관측될 것이라고 판단해 one_hot_encoding 방식을 사용해 Feature에 공휴일, 명절 Data를 추가했다."
   ]
  },
  {
   "cell_type": "code",
   "execution_count": 10,
   "metadata": {},
   "outputs": [],
   "source": [
    "data = data.loc['2014-01-01':]\n",
    "years = pd.read_csv('공휴일/'+str(2014)+' 공휴일.csv', engine='python',error_bad_lines=False, sep=',')\n",
    "for year in range(2015, 2020):\n",
    "    indiv_year = pd.read_csv('공휴일/'+str(year)+' 공휴일.csv', engine='python',error_bad_lines=False, sep=',')\n",
    "    years = pd.concat([years, indiv_year])\n",
    "\n",
    "years = years.set_index('holyday_array')\n",
    "years = years.drop('Unnamed: 0', axis=1)\n",
    "\n",
    "holiday = pd.Series([1 for x in years.index], index = years.index)\n",
    "myungjul = pd.Series([(1 if x in ['설날', '추석'] else 0) for x in years['holyday_name_array']], index=years.index)\n",
    "\n",
    "holiday_index = pd.to_datetime(holiday.index, infer_datetime_format = True)\n",
    "holiday = pd.Series(data = holiday, index = holiday_index)\n",
    "myungjul = pd.Series(data = myungjul, index = holiday_index)\n",
    "\n",
    "holiday = holiday[holiday_index.duplicated()==False].reindex(data.index, fill_value=0)\n",
    "myungjul = myungjul[holiday_index.duplicated()==False].reindex(data.index, fill_value=0)\n",
    "\n",
    "data = pd.concat([data, pd.DataFrame(holiday, columns=['holiday']), pd.DataFrame(myungjul, columns=['myungjul'])], axis=1)"
   ]
  },
  {
   "cell_type": "code",
   "execution_count": 11,
   "metadata": {},
   "outputs": [
    {
     "data": {
      "text/html": [
       "<div>\n",
       "<style scoped>\n",
       "    .dataframe tbody tr th:only-of-type {\n",
       "        vertical-align: middle;\n",
       "    }\n",
       "\n",
       "    .dataframe tbody tr th {\n",
       "        vertical-align: top;\n",
       "    }\n",
       "\n",
       "    .dataframe thead th {\n",
       "        text-align: right;\n",
       "    }\n",
       "</style>\n",
       "<table border=\"1\" class=\"dataframe\">\n",
       "  <thead>\n",
       "    <tr style=\"text-align: right;\">\n",
       "      <th></th>\n",
       "      <th>통화건수</th>\n",
       "      <th>한국은행 기준금리</th>\n",
       "      <th>평균기온(°C)</th>\n",
       "      <th>일강수량(mm)</th>\n",
       "      <th>평균 풍속(m/s)</th>\n",
       "      <th>평균 상대습도(%)</th>\n",
       "      <th>1시간 최다일사량(MJ/m2)</th>\n",
       "      <th>일 최심신적설(cm)</th>\n",
       "      <th>KOSPI지수</th>\n",
       "      <th>KOSDAQ지수</th>\n",
       "      <th>weekday_0</th>\n",
       "      <th>weekday_1</th>\n",
       "      <th>weekday_2</th>\n",
       "      <th>weekday_3</th>\n",
       "      <th>weekday_4</th>\n",
       "      <th>weekday_5</th>\n",
       "      <th>weekday_6</th>\n",
       "      <th>prev_week_avg</th>\n",
       "      <th>holiday</th>\n",
       "      <th>myungjul</th>\n",
       "    </tr>\n",
       "    <tr>\n",
       "      <th>일자</th>\n",
       "      <th></th>\n",
       "      <th></th>\n",
       "      <th></th>\n",
       "      <th></th>\n",
       "      <th></th>\n",
       "      <th></th>\n",
       "      <th></th>\n",
       "      <th></th>\n",
       "      <th></th>\n",
       "      <th></th>\n",
       "      <th></th>\n",
       "      <th></th>\n",
       "      <th></th>\n",
       "      <th></th>\n",
       "      <th></th>\n",
       "      <th></th>\n",
       "      <th></th>\n",
       "      <th></th>\n",
       "      <th></th>\n",
       "      <th></th>\n",
       "    </tr>\n",
       "  </thead>\n",
       "  <tbody>\n",
       "    <tr>\n",
       "      <th>2019-02-01</th>\n",
       "      <td>39948</td>\n",
       "      <td>1.75</td>\n",
       "      <td>-2.1</td>\n",
       "      <td>0.3</td>\n",
       "      <td>1.7</td>\n",
       "      <td>47.6</td>\n",
       "      <td>2.04</td>\n",
       "      <td>0.0</td>\n",
       "      <td>2203.46</td>\n",
       "      <td>716.92</td>\n",
       "      <td>0</td>\n",
       "      <td>0</td>\n",
       "      <td>0</td>\n",
       "      <td>0</td>\n",
       "      <td>1</td>\n",
       "      <td>0</td>\n",
       "      <td>0</td>\n",
       "      <td>35375.857143</td>\n",
       "      <td>0</td>\n",
       "      <td>0</td>\n",
       "    </tr>\n",
       "    <tr>\n",
       "      <th>2019-02-02</th>\n",
       "      <td>37267</td>\n",
       "      <td>1.75</td>\n",
       "      <td>1.4</td>\n",
       "      <td>0.0</td>\n",
       "      <td>1.0</td>\n",
       "      <td>60.0</td>\n",
       "      <td>0.83</td>\n",
       "      <td>0.0</td>\n",
       "      <td>2203.46</td>\n",
       "      <td>716.92</td>\n",
       "      <td>0</td>\n",
       "      <td>0</td>\n",
       "      <td>0</td>\n",
       "      <td>0</td>\n",
       "      <td>0</td>\n",
       "      <td>1</td>\n",
       "      <td>0</td>\n",
       "      <td>34962.714286</td>\n",
       "      <td>0</td>\n",
       "      <td>0</td>\n",
       "    </tr>\n",
       "    <tr>\n",
       "      <th>2019-02-03</th>\n",
       "      <td>34189</td>\n",
       "      <td>1.75</td>\n",
       "      <td>3.3</td>\n",
       "      <td>16.0</td>\n",
       "      <td>1.7</td>\n",
       "      <td>92.9</td>\n",
       "      <td>0.10</td>\n",
       "      <td>0.0</td>\n",
       "      <td>2203.46</td>\n",
       "      <td>716.92</td>\n",
       "      <td>0</td>\n",
       "      <td>0</td>\n",
       "      <td>0</td>\n",
       "      <td>0</td>\n",
       "      <td>0</td>\n",
       "      <td>0</td>\n",
       "      <td>1</td>\n",
       "      <td>34179.857143</td>\n",
       "      <td>0</td>\n",
       "      <td>0</td>\n",
       "    </tr>\n",
       "    <tr>\n",
       "      <th>2019-02-04</th>\n",
       "      <td>20200</td>\n",
       "      <td>1.75</td>\n",
       "      <td>-0.6</td>\n",
       "      <td>0.0</td>\n",
       "      <td>2.1</td>\n",
       "      <td>40.4</td>\n",
       "      <td>2.16</td>\n",
       "      <td>0.0</td>\n",
       "      <td>2203.46</td>\n",
       "      <td>716.92</td>\n",
       "      <td>1</td>\n",
       "      <td>0</td>\n",
       "      <td>0</td>\n",
       "      <td>0</td>\n",
       "      <td>0</td>\n",
       "      <td>0</td>\n",
       "      <td>0</td>\n",
       "      <td>33410.142857</td>\n",
       "      <td>1</td>\n",
       "      <td>0</td>\n",
       "    </tr>\n",
       "    <tr>\n",
       "      <th>2019-02-05</th>\n",
       "      <td>13188</td>\n",
       "      <td>1.75</td>\n",
       "      <td>2.8</td>\n",
       "      <td>0.0</td>\n",
       "      <td>1.0</td>\n",
       "      <td>37.1</td>\n",
       "      <td>2.05</td>\n",
       "      <td>0.0</td>\n",
       "      <td>2203.46</td>\n",
       "      <td>716.92</td>\n",
       "      <td>0</td>\n",
       "      <td>1</td>\n",
       "      <td>0</td>\n",
       "      <td>0</td>\n",
       "      <td>0</td>\n",
       "      <td>0</td>\n",
       "      <td>0</td>\n",
       "      <td>32239.000000</td>\n",
       "      <td>1</td>\n",
       "      <td>1</td>\n",
       "    </tr>\n",
       "  </tbody>\n",
       "</table>\n",
       "</div>"
      ],
      "text/plain": [
       "             통화건수  한국은행 기준금리  평균기온(°C)  일강수량(mm)  평균 풍속(m/s)  평균 상대습도(%)  \\\n",
       "일자                                                                         \n",
       "2019-02-01  39948       1.75      -2.1       0.3         1.7        47.6   \n",
       "2019-02-02  37267       1.75       1.4       0.0         1.0        60.0   \n",
       "2019-02-03  34189       1.75       3.3      16.0         1.7        92.9   \n",
       "2019-02-04  20200       1.75      -0.6       0.0         2.1        40.4   \n",
       "2019-02-05  13188       1.75       2.8       0.0         1.0        37.1   \n",
       "\n",
       "            1시간 최다일사량(MJ/m2)  일 최심신적설(cm)  KOSPI지수  KOSDAQ지수  weekday_0  \\\n",
       "일자                                                                        \n",
       "2019-02-01              2.04          0.0  2203.46    716.92          0   \n",
       "2019-02-02              0.83          0.0  2203.46    716.92          0   \n",
       "2019-02-03              0.10          0.0  2203.46    716.92          0   \n",
       "2019-02-04              2.16          0.0  2203.46    716.92          1   \n",
       "2019-02-05              2.05          0.0  2203.46    716.92          0   \n",
       "\n",
       "            weekday_1  weekday_2  weekday_3  weekday_4  weekday_5  weekday_6  \\\n",
       "일자                                                                             \n",
       "2019-02-01          0          0          0          1          0          0   \n",
       "2019-02-02          0          0          0          0          1          0   \n",
       "2019-02-03          0          0          0          0          0          1   \n",
       "2019-02-04          0          0          0          0          0          0   \n",
       "2019-02-05          1          0          0          0          0          0   \n",
       "\n",
       "            prev_week_avg  holiday  myungjul  \n",
       "일자                                            \n",
       "2019-02-01   35375.857143        0         0  \n",
       "2019-02-02   34962.714286        0         0  \n",
       "2019-02-03   34179.857143        0         0  \n",
       "2019-02-04   33410.142857        1         0  \n",
       "2019-02-05   32239.000000        1         1  "
      ]
     },
     "execution_count": 11,
     "metadata": {},
     "output_type": "execute_result"
    }
   ],
   "source": [
    "data['2019-02-01':].head()"
   ]
  },
  {
   "cell_type": "markdown",
   "metadata": {},
   "source": [
    "## 3. Data Normalization / Standardization\n",
    "\n",
    "\n",
    "데이터 프레임의 컬럼에 따라 value의 범위가 크게 차이나기에 특정 컬럼에 편향된 결과가 나올 수 있기에 이를 방지하기 위해 데이터 정규화를 수행했다.\n",
    "\n",
    "min_max 정규화와 Z_score 정규화 두 가지 방법을 사용해 정규화를 수행했다.\n",
    "\n",
    "\n",
    "### Data split\n",
    "\n",
    "train set은 13~16년 data를, validation set은 17년 data를, test set은 18년 data를 사용했다."
   ]
  },
  {
   "cell_type": "code",
   "execution_count": 12,
   "metadata": {},
   "outputs": [],
   "source": [
    "train = data[:'2016-12-31']\n",
    "valid = data['2017-01-01':'2017-12-31']\n",
    "test = data['2018-01-01':'2018-12-31']\n",
    "\n",
    "# normalize the validation/test set using min & max of the training set\n",
    "def normalize_set(df_train, df_new):\n",
    "    ret = pd.DataFrame(index=df_new.index, columns=df_new.columns)\n",
    "    trainset_max = df_train.max()\n",
    "    trainset_min = df_train.min()\n",
    "    for col_name in df_train.columns :\n",
    "        ret.loc[:,col_name] = (df_new[col_name] - trainset_min[col_name]) / (trainset_max[col_name] - trainset_min[col_name])\n",
    "    return ret\n",
    "\n",
    "# zscore the validation/test set using the mean & standard deviation of the training set\n",
    "def zscore_set(df_train, df_new):\n",
    "    ret = pd.DataFrame(index=df_new.index, columns=df_new.columns)\n",
    "    trainset_mean = df_train.mean()\n",
    "    trainset_std = df_train.std()\n",
    "    for col_name in df_train.columns :\n",
    "        ret.loc[:,col_name] = (df_new[col_name] - trainset_mean[col_name]) / trainset_std[col_name]\n",
    "    return ret"
   ]
  },
  {
   "cell_type": "code",
   "execution_count": 13,
   "metadata": {},
   "outputs": [
    {
     "data": {
      "text/html": [
       "<div>\n",
       "<style scoped>\n",
       "    .dataframe tbody tr th:only-of-type {\n",
       "        vertical-align: middle;\n",
       "    }\n",
       "\n",
       "    .dataframe tbody tr th {\n",
       "        vertical-align: top;\n",
       "    }\n",
       "\n",
       "    .dataframe thead th {\n",
       "        text-align: right;\n",
       "    }\n",
       "</style>\n",
       "<table border=\"1\" class=\"dataframe\">\n",
       "  <thead>\n",
       "    <tr style=\"text-align: right;\">\n",
       "      <th></th>\n",
       "      <th>통화건수</th>\n",
       "      <th>한국은행 기준금리</th>\n",
       "      <th>평균기온(°C)</th>\n",
       "      <th>일강수량(mm)</th>\n",
       "      <th>평균 풍속(m/s)</th>\n",
       "      <th>평균 상대습도(%)</th>\n",
       "      <th>1시간 최다일사량(MJ/m2)</th>\n",
       "      <th>일 최심신적설(cm)</th>\n",
       "      <th>KOSPI지수</th>\n",
       "      <th>KOSDAQ지수</th>\n",
       "      <th>weekday_0</th>\n",
       "      <th>weekday_1</th>\n",
       "      <th>weekday_2</th>\n",
       "      <th>weekday_3</th>\n",
       "      <th>weekday_4</th>\n",
       "      <th>weekday_5</th>\n",
       "      <th>weekday_6</th>\n",
       "      <th>prev_week_avg</th>\n",
       "      <th>holiday</th>\n",
       "      <th>myungjul</th>\n",
       "    </tr>\n",
       "    <tr>\n",
       "      <th>일자</th>\n",
       "      <th></th>\n",
       "      <th></th>\n",
       "      <th></th>\n",
       "      <th></th>\n",
       "      <th></th>\n",
       "      <th></th>\n",
       "      <th></th>\n",
       "      <th></th>\n",
       "      <th></th>\n",
       "      <th></th>\n",
       "      <th></th>\n",
       "      <th></th>\n",
       "      <th></th>\n",
       "      <th></th>\n",
       "      <th></th>\n",
       "      <th></th>\n",
       "      <th></th>\n",
       "      <th></th>\n",
       "      <th></th>\n",
       "      <th></th>\n",
       "    </tr>\n",
       "  </thead>\n",
       "  <tbody>\n",
       "    <tr>\n",
       "      <th>2014-01-01</th>\n",
       "      <td>55628</td>\n",
       "      <td>2.5</td>\n",
       "      <td>4.0</td>\n",
       "      <td>0.0</td>\n",
       "      <td>3.7</td>\n",
       "      <td>51.3</td>\n",
       "      <td>1.13</td>\n",
       "      <td>0.0</td>\n",
       "      <td>2011.34</td>\n",
       "      <td>499.99</td>\n",
       "      <td>0</td>\n",
       "      <td>0</td>\n",
       "      <td>1</td>\n",
       "      <td>0</td>\n",
       "      <td>0</td>\n",
       "      <td>0</td>\n",
       "      <td>0</td>\n",
       "      <td>57762.857143</td>\n",
       "      <td>1</td>\n",
       "      <td>0</td>\n",
       "    </tr>\n",
       "    <tr>\n",
       "      <th>2014-01-02</th>\n",
       "      <td>38344</td>\n",
       "      <td>2.5</td>\n",
       "      <td>1.5</td>\n",
       "      <td>0.0</td>\n",
       "      <td>2.0</td>\n",
       "      <td>35.4</td>\n",
       "      <td>1.60</td>\n",
       "      <td>0.0</td>\n",
       "      <td>1967.19</td>\n",
       "      <td>496.28</td>\n",
       "      <td>0</td>\n",
       "      <td>0</td>\n",
       "      <td>0</td>\n",
       "      <td>1</td>\n",
       "      <td>0</td>\n",
       "      <td>0</td>\n",
       "      <td>0</td>\n",
       "      <td>55670.285714</td>\n",
       "      <td>0</td>\n",
       "      <td>0</td>\n",
       "    </tr>\n",
       "    <tr>\n",
       "      <th>2014-01-03</th>\n",
       "      <td>44865</td>\n",
       "      <td>2.5</td>\n",
       "      <td>2.3</td>\n",
       "      <td>0.0</td>\n",
       "      <td>2.5</td>\n",
       "      <td>54.4</td>\n",
       "      <td>1.22</td>\n",
       "      <td>0.0</td>\n",
       "      <td>1946.14</td>\n",
       "      <td>499.33</td>\n",
       "      <td>0</td>\n",
       "      <td>0</td>\n",
       "      <td>0</td>\n",
       "      <td>0</td>\n",
       "      <td>1</td>\n",
       "      <td>0</td>\n",
       "      <td>0</td>\n",
       "      <td>55343.142857</td>\n",
       "      <td>0</td>\n",
       "      <td>0</td>\n",
       "    </tr>\n",
       "    <tr>\n",
       "      <th>2014-01-04</th>\n",
       "      <td>57280</td>\n",
       "      <td>2.5</td>\n",
       "      <td>-0.1</td>\n",
       "      <td>0.0</td>\n",
       "      <td>2.4</td>\n",
       "      <td>47.1</td>\n",
       "      <td>1.46</td>\n",
       "      <td>0.0</td>\n",
       "      <td>1946.14</td>\n",
       "      <td>499.33</td>\n",
       "      <td>0</td>\n",
       "      <td>0</td>\n",
       "      <td>0</td>\n",
       "      <td>0</td>\n",
       "      <td>0</td>\n",
       "      <td>1</td>\n",
       "      <td>0</td>\n",
       "      <td>54632.571429</td>\n",
       "      <td>0</td>\n",
       "      <td>0</td>\n",
       "    </tr>\n",
       "    <tr>\n",
       "      <th>2014-01-05</th>\n",
       "      <td>56907</td>\n",
       "      <td>2.5</td>\n",
       "      <td>-0.8</td>\n",
       "      <td>0.0</td>\n",
       "      <td>1.9</td>\n",
       "      <td>48.4</td>\n",
       "      <td>1.29</td>\n",
       "      <td>0.0</td>\n",
       "      <td>1946.14</td>\n",
       "      <td>499.33</td>\n",
       "      <td>0</td>\n",
       "      <td>0</td>\n",
       "      <td>0</td>\n",
       "      <td>0</td>\n",
       "      <td>0</td>\n",
       "      <td>0</td>\n",
       "      <td>1</td>\n",
       "      <td>53712.857143</td>\n",
       "      <td>0</td>\n",
       "      <td>0</td>\n",
       "    </tr>\n",
       "  </tbody>\n",
       "</table>\n",
       "</div>"
      ],
      "text/plain": [
       "             통화건수  한국은행 기준금리  평균기온(°C)  일강수량(mm)  평균 풍속(m/s)  평균 상대습도(%)  \\\n",
       "일자                                                                         \n",
       "2014-01-01  55628        2.5       4.0       0.0         3.7        51.3   \n",
       "2014-01-02  38344        2.5       1.5       0.0         2.0        35.4   \n",
       "2014-01-03  44865        2.5       2.3       0.0         2.5        54.4   \n",
       "2014-01-04  57280        2.5      -0.1       0.0         2.4        47.1   \n",
       "2014-01-05  56907        2.5      -0.8       0.0         1.9        48.4   \n",
       "\n",
       "            1시간 최다일사량(MJ/m2)  일 최심신적설(cm)  KOSPI지수  KOSDAQ지수  weekday_0  \\\n",
       "일자                                                                        \n",
       "2014-01-01              1.13          0.0  2011.34    499.99          0   \n",
       "2014-01-02              1.60          0.0  1967.19    496.28          0   \n",
       "2014-01-03              1.22          0.0  1946.14    499.33          0   \n",
       "2014-01-04              1.46          0.0  1946.14    499.33          0   \n",
       "2014-01-05              1.29          0.0  1946.14    499.33          0   \n",
       "\n",
       "            weekday_1  weekday_2  weekday_3  weekday_4  weekday_5  weekday_6  \\\n",
       "일자                                                                             \n",
       "2014-01-01          0          1          0          0          0          0   \n",
       "2014-01-02          0          0          1          0          0          0   \n",
       "2014-01-03          0          0          0          1          0          0   \n",
       "2014-01-04          0          0          0          0          1          0   \n",
       "2014-01-05          0          0          0          0          0          1   \n",
       "\n",
       "            prev_week_avg  holiday  myungjul  \n",
       "일자                                            \n",
       "2014-01-01   57762.857143        1         0  \n",
       "2014-01-02   55670.285714        0         0  \n",
       "2014-01-03   55343.142857        0         0  \n",
       "2014-01-04   54632.571429        0         0  \n",
       "2014-01-05   53712.857143        0         0  "
      ]
     },
     "execution_count": 13,
     "metadata": {},
     "output_type": "execute_result"
    }
   ],
   "source": [
    "train.head()"
   ]
  },
  {
   "cell_type": "code",
   "execution_count": 14,
   "metadata": {},
   "outputs": [
    {
     "data": {
      "text/html": [
       "<div>\n",
       "<style scoped>\n",
       "    .dataframe tbody tr th:only-of-type {\n",
       "        vertical-align: middle;\n",
       "    }\n",
       "\n",
       "    .dataframe tbody tr th {\n",
       "        vertical-align: top;\n",
       "    }\n",
       "\n",
       "    .dataframe thead th {\n",
       "        text-align: right;\n",
       "    }\n",
       "</style>\n",
       "<table border=\"1\" class=\"dataframe\">\n",
       "  <thead>\n",
       "    <tr style=\"text-align: right;\">\n",
       "      <th></th>\n",
       "      <th>통화건수</th>\n",
       "      <th>한국은행 기준금리</th>\n",
       "      <th>평균기온(°C)</th>\n",
       "      <th>일강수량(mm)</th>\n",
       "      <th>평균 풍속(m/s)</th>\n",
       "      <th>평균 상대습도(%)</th>\n",
       "      <th>1시간 최다일사량(MJ/m2)</th>\n",
       "      <th>일 최심신적설(cm)</th>\n",
       "      <th>KOSPI지수</th>\n",
       "      <th>KOSDAQ지수</th>\n",
       "      <th>weekday_0</th>\n",
       "      <th>weekday_1</th>\n",
       "      <th>weekday_2</th>\n",
       "      <th>weekday_3</th>\n",
       "      <th>weekday_4</th>\n",
       "      <th>weekday_5</th>\n",
       "      <th>weekday_6</th>\n",
       "      <th>prev_week_avg</th>\n",
       "      <th>holiday</th>\n",
       "      <th>myungjul</th>\n",
       "    </tr>\n",
       "    <tr>\n",
       "      <th>일자</th>\n",
       "      <th></th>\n",
       "      <th></th>\n",
       "      <th></th>\n",
       "      <th></th>\n",
       "      <th></th>\n",
       "      <th></th>\n",
       "      <th></th>\n",
       "      <th></th>\n",
       "      <th></th>\n",
       "      <th></th>\n",
       "      <th></th>\n",
       "      <th></th>\n",
       "      <th></th>\n",
       "      <th></th>\n",
       "      <th></th>\n",
       "      <th></th>\n",
       "      <th></th>\n",
       "      <th></th>\n",
       "      <th></th>\n",
       "      <th></th>\n",
       "    </tr>\n",
       "  </thead>\n",
       "  <tbody>\n",
       "    <tr>\n",
       "      <th>2014-01-01</th>\n",
       "      <td>0.514949</td>\n",
       "      <td>1.572357</td>\n",
       "      <td>-0.910308</td>\n",
       "      <td>-0.277156</td>\n",
       "      <td>1.388865</td>\n",
       "      <td>-0.636462</td>\n",
       "      <td>-1.090079</td>\n",
       "      <td>-0.102772</td>\n",
       "      <td>0.316504</td>\n",
       "      <td>-1.863331</td>\n",
       "      <td>-0.407193</td>\n",
       "      <td>-0.407193</td>\n",
       "      <td>2.444470</td>\n",
       "      <td>-0.408713</td>\n",
       "      <td>-0.408713</td>\n",
       "      <td>-0.408713</td>\n",
       "      <td>-0.407193</td>\n",
       "      <td>0.965818</td>\n",
       "      <td>4.722159</td>\n",
       "      <td>-0.074159</td>\n",
       "    </tr>\n",
       "    <tr>\n",
       "      <th>2014-01-02</th>\n",
       "      <td>-0.669197</td>\n",
       "      <td>1.572357</td>\n",
       "      <td>-1.148896</td>\n",
       "      <td>-0.277156</td>\n",
       "      <td>-0.636599</td>\n",
       "      <td>-1.721658</td>\n",
       "      <td>-0.449475</td>\n",
       "      <td>-0.102772</td>\n",
       "      <td>-0.460344</td>\n",
       "      <td>-1.916493</td>\n",
       "      <td>-0.407193</td>\n",
       "      <td>-0.407193</td>\n",
       "      <td>-0.408713</td>\n",
       "      <td>2.444470</td>\n",
       "      <td>-0.408713</td>\n",
       "      <td>-0.408713</td>\n",
       "      <td>-0.407193</td>\n",
       "      <td>0.756157</td>\n",
       "      <td>-0.211574</td>\n",
       "      <td>-0.074159</td>\n",
       "    </tr>\n",
       "    <tr>\n",
       "      <th>2014-01-03</th>\n",
       "      <td>-0.222436</td>\n",
       "      <td>1.572357</td>\n",
       "      <td>-1.072548</td>\n",
       "      <td>-0.277156</td>\n",
       "      <td>-0.040875</td>\n",
       "      <td>-0.424883</td>\n",
       "      <td>-0.967411</td>\n",
       "      <td>-0.102772</td>\n",
       "      <td>-0.830733</td>\n",
       "      <td>-1.872788</td>\n",
       "      <td>-0.407193</td>\n",
       "      <td>-0.407193</td>\n",
       "      <td>-0.408713</td>\n",
       "      <td>-0.408713</td>\n",
       "      <td>2.444470</td>\n",
       "      <td>-0.408713</td>\n",
       "      <td>-0.407193</td>\n",
       "      <td>0.723380</td>\n",
       "      <td>-0.211574</td>\n",
       "      <td>-0.074159</td>\n",
       "    </tr>\n",
       "    <tr>\n",
       "      <th>2014-01-04</th>\n",
       "      <td>0.628129</td>\n",
       "      <td>1.572357</td>\n",
       "      <td>-1.301592</td>\n",
       "      <td>-0.277156</td>\n",
       "      <td>-0.160020</td>\n",
       "      <td>-0.923118</td>\n",
       "      <td>-0.640293</td>\n",
       "      <td>-0.102772</td>\n",
       "      <td>-0.830733</td>\n",
       "      <td>-1.872788</td>\n",
       "      <td>-0.407193</td>\n",
       "      <td>-0.407193</td>\n",
       "      <td>-0.408713</td>\n",
       "      <td>-0.408713</td>\n",
       "      <td>-0.408713</td>\n",
       "      <td>2.444470</td>\n",
       "      <td>-0.407193</td>\n",
       "      <td>0.652186</td>\n",
       "      <td>-0.211574</td>\n",
       "      <td>-0.074159</td>\n",
       "    </tr>\n",
       "    <tr>\n",
       "      <th>2014-01-05</th>\n",
       "      <td>0.602574</td>\n",
       "      <td>1.572357</td>\n",
       "      <td>-1.368397</td>\n",
       "      <td>-0.277156</td>\n",
       "      <td>-0.755744</td>\n",
       "      <td>-0.834391</td>\n",
       "      <td>-0.872001</td>\n",
       "      <td>-0.102772</td>\n",
       "      <td>-0.830733</td>\n",
       "      <td>-1.872788</td>\n",
       "      <td>-0.407193</td>\n",
       "      <td>-0.407193</td>\n",
       "      <td>-0.408713</td>\n",
       "      <td>-0.408713</td>\n",
       "      <td>-0.408713</td>\n",
       "      <td>-0.408713</td>\n",
       "      <td>2.453598</td>\n",
       "      <td>0.560037</td>\n",
       "      <td>-0.211574</td>\n",
       "      <td>-0.074159</td>\n",
       "    </tr>\n",
       "  </tbody>\n",
       "</table>\n",
       "</div>"
      ],
      "text/plain": [
       "                통화건수  한국은행 기준금리  평균기온(°C)  일강수량(mm)  평균 풍속(m/s)  평균 상대습도(%)  \\\n",
       "일자                                                                            \n",
       "2014-01-01  0.514949   1.572357 -0.910308 -0.277156    1.388865   -0.636462   \n",
       "2014-01-02 -0.669197   1.572357 -1.148896 -0.277156   -0.636599   -1.721658   \n",
       "2014-01-03 -0.222436   1.572357 -1.072548 -0.277156   -0.040875   -0.424883   \n",
       "2014-01-04  0.628129   1.572357 -1.301592 -0.277156   -0.160020   -0.923118   \n",
       "2014-01-05  0.602574   1.572357 -1.368397 -0.277156   -0.755744   -0.834391   \n",
       "\n",
       "            1시간 최다일사량(MJ/m2)  일 최심신적설(cm)   KOSPI지수  KOSDAQ지수  weekday_0  \\\n",
       "일자                                                                         \n",
       "2014-01-01         -1.090079    -0.102772  0.316504 -1.863331  -0.407193   \n",
       "2014-01-02         -0.449475    -0.102772 -0.460344 -1.916493  -0.407193   \n",
       "2014-01-03         -0.967411    -0.102772 -0.830733 -1.872788  -0.407193   \n",
       "2014-01-04         -0.640293    -0.102772 -0.830733 -1.872788  -0.407193   \n",
       "2014-01-05         -0.872001    -0.102772 -0.830733 -1.872788  -0.407193   \n",
       "\n",
       "            weekday_1  weekday_2  weekday_3  weekday_4  weekday_5  weekday_6  \\\n",
       "일자                                                                             \n",
       "2014-01-01  -0.407193   2.444470  -0.408713  -0.408713  -0.408713  -0.407193   \n",
       "2014-01-02  -0.407193  -0.408713   2.444470  -0.408713  -0.408713  -0.407193   \n",
       "2014-01-03  -0.407193  -0.408713  -0.408713   2.444470  -0.408713  -0.407193   \n",
       "2014-01-04  -0.407193  -0.408713  -0.408713  -0.408713   2.444470  -0.407193   \n",
       "2014-01-05  -0.407193  -0.408713  -0.408713  -0.408713  -0.408713   2.453598   \n",
       "\n",
       "            prev_week_avg   holiday  myungjul  \n",
       "일자                                             \n",
       "2014-01-01       0.965818  4.722159 -0.074159  \n",
       "2014-01-02       0.756157 -0.211574 -0.074159  \n",
       "2014-01-03       0.723380 -0.211574 -0.074159  \n",
       "2014-01-04       0.652186 -0.211574 -0.074159  \n",
       "2014-01-05       0.560037 -0.211574 -0.074159  "
      ]
     },
     "execution_count": 14,
     "metadata": {},
     "output_type": "execute_result"
    }
   ],
   "source": [
    "zscore_set(train,train).head()"
   ]
  },
  {
   "cell_type": "code",
   "execution_count": 15,
   "metadata": {
    "scrolled": true
   },
   "outputs": [],
   "source": [
    "train_z = zscore_set(train, train)\n",
    "valid_z = zscore_set(train, valid)\n",
    "test_z = zscore_set(train, test)"
   ]
  },
  {
   "cell_type": "code",
   "execution_count": 16,
   "metadata": {},
   "outputs": [],
   "source": [
    "train_n = normalize_set(train, train)\n",
    "valid_n = normalize_set(train, valid)\n",
    "test_n = normalize_set(train, test)"
   ]
  },
  {
   "cell_type": "markdown",
   "metadata": {},
   "source": [
    "## 4. Feature Extraction\n",
    "\n",
    "앞서 Feature selection을 이용해 Feature의 수를 감소시켰다. \n",
    "\n",
    "이번 단계에서는 Feature Extraction을 이용해 선정된 Feature 중에서 데이터를 설명하는데 큰 비중을 차지하고 있는 Feature를 찾아냈다.\n",
    "\n",
    "이를 위해 PCA 분석을 실행했다."
   ]
  },
  {
   "cell_type": "code",
   "execution_count": 17,
   "metadata": {},
   "outputs": [
    {
     "data": {
      "text/plain": [
       "PCA(copy=True, iterated_power='auto', n_components=3, random_state=None,\n",
       "    svd_solver='auto', tol=0.0, whiten=False)"
      ]
     },
     "execution_count": 17,
     "metadata": {},
     "output_type": "execute_result"
    }
   ],
   "source": [
    "from sklearn.decomposition import PCA\n",
    "\n",
    "pca = PCA(n_components=3)\n",
    "pca.fit(data)"
   ]
  },
  {
   "cell_type": "code",
   "execution_count": 18,
   "metadata": {},
   "outputs": [],
   "source": [
    "from sklearn.decomposition import PCA\n",
    "import numpy as np\n",
    "import pandas as pd\n",
    "import matplotlib.pyplot as plt\n",
    "import seaborn as sns\n",
    "\n",
    "def PCA_model(df,n):\n",
    "    norm_df = normalize(df)     #normalizing\n",
    "    pca = PCA(n_components=n) #n => the number of dimension for decomposing\n",
    "    pca.fit(norm_df)\n",
    "    df_pca = pd.DataFrame(pca.transform(norm_df),columns=df.columns, index=df.index)\n",
    "    return df_pca\n",
    "\n",
    "def normalize(data):\n",
    "    normalized_data = ((data - data.mean()) / (data.max() - data.min()))\n",
    "    return normalized_data\n",
    "\n",
    "def correlation(data):\n",
    "    corr = data.corr()\n",
    "    sns.set(style=\"white\")\n",
    "    f, ax = plt.subplots(figsize=(11,9))\n",
    "    cmap = sns.diverging_palette(220,10,as_cmap=True)\n",
    "    sns.heatmap(corr, cmap=cmap, vmax=.3, center=0, square=True, linewidths=.5,\n",
    "                cbar_kws={\"shrink\": .5})"
   ]
  },
  {
   "cell_type": "code",
   "execution_count": 19,
   "metadata": {},
   "outputs": [
    {
     "data": {
      "text/html": [
       "<div>\n",
       "<style scoped>\n",
       "    .dataframe tbody tr th:only-of-type {\n",
       "        vertical-align: middle;\n",
       "    }\n",
       "\n",
       "    .dataframe tbody tr th {\n",
       "        vertical-align: top;\n",
       "    }\n",
       "\n",
       "    .dataframe thead th {\n",
       "        text-align: right;\n",
       "    }\n",
       "</style>\n",
       "<table border=\"1\" class=\"dataframe\">\n",
       "  <thead>\n",
       "    <tr style=\"text-align: right;\">\n",
       "      <th></th>\n",
       "      <th>통화건수</th>\n",
       "      <th>한국은행 기준금리</th>\n",
       "      <th>평균기온(°C)</th>\n",
       "      <th>일강수량(mm)</th>\n",
       "      <th>평균 풍속(m/s)</th>\n",
       "      <th>평균 상대습도(%)</th>\n",
       "      <th>1시간 최다일사량(MJ/m2)</th>\n",
       "      <th>일 최심신적설(cm)</th>\n",
       "      <th>KOSPI지수</th>\n",
       "      <th>KOSDAQ지수</th>\n",
       "      <th>weekday_0</th>\n",
       "      <th>weekday_1</th>\n",
       "      <th>weekday_2</th>\n",
       "      <th>weekday_3</th>\n",
       "      <th>weekday_4</th>\n",
       "      <th>weekday_5</th>\n",
       "      <th>weekday_6</th>\n",
       "      <th>prev_week_avg</th>\n",
       "      <th>holiday</th>\n",
       "      <th>myungjul</th>\n",
       "    </tr>\n",
       "    <tr>\n",
       "      <th>일자</th>\n",
       "      <th></th>\n",
       "      <th></th>\n",
       "      <th></th>\n",
       "      <th></th>\n",
       "      <th></th>\n",
       "      <th></th>\n",
       "      <th></th>\n",
       "      <th></th>\n",
       "      <th></th>\n",
       "      <th></th>\n",
       "      <th></th>\n",
       "      <th></th>\n",
       "      <th></th>\n",
       "      <th></th>\n",
       "      <th></th>\n",
       "      <th></th>\n",
       "      <th></th>\n",
       "      <th></th>\n",
       "      <th></th>\n",
       "      <th></th>\n",
       "    </tr>\n",
       "  </thead>\n",
       "  <tbody>\n",
       "    <tr>\n",
       "      <th>2014-01-01</th>\n",
       "      <td>0.771448</td>\n",
       "      <td>-0.492857</td>\n",
       "      <td>-0.050698</td>\n",
       "      <td>-0.412403</td>\n",
       "      <td>0.497085</td>\n",
       "      <td>0.576051</td>\n",
       "      <td>-0.023549</td>\n",
       "      <td>-0.154356</td>\n",
       "      <td>-0.170662</td>\n",
       "      <td>0.178951</td>\n",
       "      <td>0.933568</td>\n",
       "      <td>0.186501</td>\n",
       "      <td>0.118701</td>\n",
       "      <td>-0.066865</td>\n",
       "      <td>-0.124738</td>\n",
       "      <td>-0.128060</td>\n",
       "      <td>-0.038140</td>\n",
       "      <td>-0.006844</td>\n",
       "      <td>0.028375</td>\n",
       "      <td>1.761307e-16</td>\n",
       "    </tr>\n",
       "    <tr>\n",
       "      <th>2014-01-02</th>\n",
       "      <td>0.720202</td>\n",
       "      <td>-0.427736</td>\n",
       "      <td>-0.018966</td>\n",
       "      <td>0.762480</td>\n",
       "      <td>-0.292392</td>\n",
       "      <td>0.396307</td>\n",
       "      <td>-0.010210</td>\n",
       "      <td>-0.130073</td>\n",
       "      <td>-0.278370</td>\n",
       "      <td>0.137905</td>\n",
       "      <td>-0.053177</td>\n",
       "      <td>0.121699</td>\n",
       "      <td>-0.215040</td>\n",
       "      <td>-0.108760</td>\n",
       "      <td>-0.096103</td>\n",
       "      <td>0.015184</td>\n",
       "      <td>0.034995</td>\n",
       "      <td>-0.002733</td>\n",
       "      <td>0.091341</td>\n",
       "      <td>-7.663143e-18</td>\n",
       "    </tr>\n",
       "    <tr>\n",
       "      <th>2014-01-03</th>\n",
       "      <td>0.842394</td>\n",
       "      <td>-0.096263</td>\n",
       "      <td>0.700201</td>\n",
       "      <td>-0.327569</td>\n",
       "      <td>-0.482012</td>\n",
       "      <td>0.041436</td>\n",
       "      <td>-0.036517</td>\n",
       "      <td>-0.199384</td>\n",
       "      <td>-0.042793</td>\n",
       "      <td>0.209821</td>\n",
       "      <td>-0.052060</td>\n",
       "      <td>0.061705</td>\n",
       "      <td>-0.091299</td>\n",
       "      <td>-0.087652</td>\n",
       "      <td>-0.043988</td>\n",
       "      <td>0.030326</td>\n",
       "      <td>-0.012745</td>\n",
       "      <td>-0.020381</td>\n",
       "      <td>0.094721</td>\n",
       "      <td>-1.738197e-16</td>\n",
       "    </tr>\n",
       "    <tr>\n",
       "      <th>2014-01-04</th>\n",
       "      <td>0.970475</td>\n",
       "      <td>0.346245</td>\n",
       "      <td>0.217040</td>\n",
       "      <td>0.319756</td>\n",
       "      <td>0.544728</td>\n",
       "      <td>-0.246913</td>\n",
       "      <td>-0.040369</td>\n",
       "      <td>-0.183416</td>\n",
       "      <td>-0.190483</td>\n",
       "      <td>0.165894</td>\n",
       "      <td>-0.041660</td>\n",
       "      <td>0.080195</td>\n",
       "      <td>-0.106898</td>\n",
       "      <td>-0.080709</td>\n",
       "      <td>-0.030030</td>\n",
       "      <td>0.017701</td>\n",
       "      <td>0.013675</td>\n",
       "      <td>-0.017608</td>\n",
       "      <td>0.064165</td>\n",
       "      <td>-1.244290e-16</td>\n",
       "    </tr>\n",
       "    <tr>\n",
       "      <th>2014-01-05</th>\n",
       "      <td>0.926413</td>\n",
       "      <td>0.296258</td>\n",
       "      <td>-0.646841</td>\n",
       "      <td>-0.222965</td>\n",
       "      <td>-0.378805</td>\n",
       "      <td>0.079011</td>\n",
       "      <td>-0.015694</td>\n",
       "      <td>-0.198653</td>\n",
       "      <td>-0.192789</td>\n",
       "      <td>0.177621</td>\n",
       "      <td>-0.034479</td>\n",
       "      <td>0.069943</td>\n",
       "      <td>-0.174834</td>\n",
       "      <td>-0.083239</td>\n",
       "      <td>-0.020742</td>\n",
       "      <td>0.008692</td>\n",
       "      <td>0.008775</td>\n",
       "      <td>-0.015703</td>\n",
       "      <td>0.046093</td>\n",
       "      <td>-1.648383e-16</td>\n",
       "    </tr>\n",
       "  </tbody>\n",
       "</table>\n",
       "</div>"
      ],
      "text/plain": [
       "                통화건수  한국은행 기준금리  평균기온(°C)  일강수량(mm)  평균 풍속(m/s)  평균 상대습도(%)  \\\n",
       "일자                                                                            \n",
       "2014-01-01  0.771448  -0.492857 -0.050698 -0.412403    0.497085    0.576051   \n",
       "2014-01-02  0.720202  -0.427736 -0.018966  0.762480   -0.292392    0.396307   \n",
       "2014-01-03  0.842394  -0.096263  0.700201 -0.327569   -0.482012    0.041436   \n",
       "2014-01-04  0.970475   0.346245  0.217040  0.319756    0.544728   -0.246913   \n",
       "2014-01-05  0.926413   0.296258 -0.646841 -0.222965   -0.378805    0.079011   \n",
       "\n",
       "            1시간 최다일사량(MJ/m2)  일 최심신적설(cm)   KOSPI지수  KOSDAQ지수  weekday_0  \\\n",
       "일자                                                                         \n",
       "2014-01-01         -0.023549    -0.154356 -0.170662  0.178951   0.933568   \n",
       "2014-01-02         -0.010210    -0.130073 -0.278370  0.137905  -0.053177   \n",
       "2014-01-03         -0.036517    -0.199384 -0.042793  0.209821  -0.052060   \n",
       "2014-01-04         -0.040369    -0.183416 -0.190483  0.165894  -0.041660   \n",
       "2014-01-05         -0.015694    -0.198653 -0.192789  0.177621  -0.034479   \n",
       "\n",
       "            weekday_1  weekday_2  weekday_3  weekday_4  weekday_5  weekday_6  \\\n",
       "일자                                                                             \n",
       "2014-01-01   0.186501   0.118701  -0.066865  -0.124738  -0.128060  -0.038140   \n",
       "2014-01-02   0.121699  -0.215040  -0.108760  -0.096103   0.015184   0.034995   \n",
       "2014-01-03   0.061705  -0.091299  -0.087652  -0.043988   0.030326  -0.012745   \n",
       "2014-01-04   0.080195  -0.106898  -0.080709  -0.030030   0.017701   0.013675   \n",
       "2014-01-05   0.069943  -0.174834  -0.083239  -0.020742   0.008692   0.008775   \n",
       "\n",
       "            prev_week_avg   holiday      myungjul  \n",
       "일자                                                 \n",
       "2014-01-01      -0.006844  0.028375  1.761307e-16  \n",
       "2014-01-02      -0.002733  0.091341 -7.663143e-18  \n",
       "2014-01-03      -0.020381  0.094721 -1.738197e-16  \n",
       "2014-01-04      -0.017608  0.064165 -1.244290e-16  \n",
       "2014-01-05      -0.015703  0.046093 -1.648383e-16  "
      ]
     },
     "execution_count": 19,
     "metadata": {},
     "output_type": "execute_result"
    }
   ],
   "source": [
    "PCA_model(data, 20).head()"
   ]
  },
  {
   "cell_type": "code",
   "execution_count": 20,
   "metadata": {
    "scrolled": true
   },
   "outputs": [
    {
     "data": {
      "image/png": "[encoded data removed]",
      "text/plain": [
       "<Figure size 792x648 with 2 Axes>"
      ]
     },
     "metadata": {},
     "output_type": "display_data"
    }
   ],
   "source": [
    "correlation(data)"
   ]
  },
  {
   "cell_type": "markdown",
   "metadata": {},
   "source": [
    "## Base Model: Last Week Data"
   ]
  },
  {
   "cell_type": "code",
   "execution_count": 21,
   "metadata": {},
   "outputs": [
    {
     "name": "stdout",
     "output_type": "stream",
     "text": [
      "testing set score: 0.263\n"
     ]
    }
   ],
   "source": [
    "prev_week = prev_week.loc['2014-01-01':]\n",
    "prediction = prev_week.loc['2018-01-01':'2018-12-31']\n",
    "\n",
    "test_ev = explained_variance_score(data['통화건수'].loc['2018-01-01':'2018-12-31'], prediction)\n",
    "print(\"testing set score: {:.3f}\".format(test_ev))"
   ]
  },
  {
   "cell_type": "markdown",
   "metadata": {},
   "source": [
    "## Base Model: Last Week Average"
   ]
  },
  {
   "cell_type": "code",
   "execution_count": 22,
   "metadata": {},
   "outputs": [
    {
     "name": "stdout",
     "output_type": "stream",
     "text": [
      "testing set score: 0.081\n"
     ]
    }
   ],
   "source": [
    "prediction = data['prev_week_avg'].loc['2018-01-01':'2018-12-31']\n",
    "\n",
    "test_ev = explained_variance_score(data['통화건수'].loc['2018-01-01':'2018-12-31'], prediction)\n",
    "print(\"testing set score: {:.3f}\".format(test_ev))"
   ]
  },
  {
   "cell_type": "markdown",
   "metadata": {},
   "source": [
    "첫 번째 Base Model은 지난 주 목표일의 통화건수가 이번 주 목표일의 데이터 동일하다고 판단한 모델이다.\n",
    "\n",
    "Score는 0.263 이다.\n",
    "\n",
    "두 번째 Base Model은 지난 주 통화건수의 평균이 이번 주 목표일의 데이터와 동일하다고 판단하는 모델이다.\n",
    "\n",
    "Score는 0.081 이다.\n",
    "\n",
    "이 후, 네 가지 모델로 나누어 학습을 진행하였다. 첫 번째 모델은 Linear Regression이다."
   ]
  },
  {
   "cell_type": "markdown",
   "metadata": {},
   "source": [
    "## Model 1-1: Linear Regression\n",
    "여기선 위에서 전처리가 완료된 Dataset을 이용하여 예측 모델을 학습시키고 그 결과를 도출해냈다.\n",
    "\n",
    "먼저, 학습된 예측 모델의 성능의 실효성을 검증하기 위해 단순 데이터를 이용한 Base Model을 생성하였다.\n",
    "\n",
    "이 때, 각 모델의 성능을 측정하기 위한 수치인 score는 Explained Variance Score를 이용하였다.\n",
    "\n",
    "Score는 0부터 1사이의 실수값을 가지며 1에 가까울수록 좋은 성능을 가진 모델이라고 할 수 있다."
   ]
  },
  {
   "cell_type": "code",
   "execution_count": 23,
   "metadata": {},
   "outputs": [],
   "source": [
    "x_train = train_z.drop(columns = ['통화건수'])\n",
    "y_train = train_z['통화건수']\n",
    "\n",
    "x_valid = valid_z.drop(columns = ['통화건수'])\n",
    "y_valid = valid_z['통화건수']\n",
    "\n",
    "model = LinearRegression()\n",
    "\n",
    "reg = model.fit(x_train, y_train)\n",
    "\n",
    "prediction = model.predict(x_valid)\n",
    "prediction = pd.Series(data = prediction, index = y_valid.index)"
   ]
  },
  {
   "cell_type": "markdown",
   "metadata": {},
   "source": [
    "아래 목록은 위에서부터 선형 모델의 각 feature들의 가중치와 마지막으로 선형 모델의 절편값을 나타낸 것이다."
   ]
  },
  {
   "cell_type": "code",
   "execution_count": null,
   "metadata": {},
   "outputs": [
    {
     "name": "stdout",
     "output_type": "stream",
     "text": [
      "한국은행 기준금리                      -0.018\n",
      "평균기온(°C)                       -0.004\n",
      "일강수량(mm)                        0.067\n",
      "평균 풍속(m/s)                      0.023\n",
      "평균 상대습도(%)                      0.016\n",
      "1시간 최다일사량(MJ/m2)               -0.007\n",
      "일 최심신적설(cm)                     0.016\n",
      "KOSPI지수                         0.025\n",
      "KOSDAQ지수                       -0.033\n",
      "weekday_0          -7318132951292.092\n",
      "weekday_1          -7318132951292.016\n",
      "weekday_2          -7337644917114.089\n",
      "weekday_3          -7337644917114.057\n",
      "weekday_4          -7337644917113.883\n",
      "weekday_5          -7337644917113.627\n",
      "weekday_6          -7318132951291.540\n",
      "prev_week_avg                   0.628\n",
      "holiday                         0.057\n",
      "myungjul                       -0.150\n",
      "0.001318235081178838\n"
     ]
    }
   ],
   "source": [
    "coef = pd.Series(data = model.coef_, index = x_train.columns)\n",
    "print(coef.to_string(float_format = (lambda x: \"{:.3f}\".format(x))))\n",
    "print(model.intercept_)"
   ]
  },
  {
   "cell_type": "markdown",
   "metadata": {},
   "source": [
    "다음은 training set에 대한 모델의 score와 validation set에 대한 score를 각각 나타낸 것이다."
   ]
  },
  {
   "cell_type": "code",
   "execution_count": null,
   "metadata": {},
   "outputs": [
    {
     "name": "stdout",
     "output_type": "stream",
     "text": [
      "training set score: 0.815\n",
      "validation set score: 0.684\n"
     ]
    }
   ],
   "source": [
    "train_ev = explained_variance_score(y_train, model.predict(x_train))\n",
    "print(\"training set score: {:.3f}\".format(train_ev))\n",
    "test_ev = explained_variance_score(y_valid, prediction)\n",
    "print(\"validation set score: {:.3f}\".format(test_ev))"
   ]
  },
  {
   "cell_type": "markdown",
   "metadata": {},
   "source": [
    "그리고 학습된 모델이 예측한 결과와 실제 결과를 위에서부터 차례대로 training set, validation set에 대해 그래프로 표현하였다.\n",
    "\n",
    "prediction 그래프가 학습한 모델이 예측한 결과를 나타낸 그래프이고 target 그래프는 실제 데이터의 그래프이다."
   ]
  },
  {
   "cell_type": "code",
   "execution_count": null,
   "metadata": {},
   "outputs": [
    {
     "name": "stderr",
     "output_type": "stream",
     "text": [
      "C:\\ProgramData\\Anaconda3\\lib\\site-packages\\pandas\\plotting\\_converter.py:129: FutureWarning: Using an implicitly registered datetime converter for a matplotlib plotting method. The converter was registered by pandas on import. Future versions of pandas will require you to explicitly register matplotlib converters.\n",
      "\n",
      "To register the converters:\n",
      "\t>>> from pandas.plotting import register_matplotlib_converters\n",
      "\t>>> register_matplotlib_converters()\n",
      "  warnings.warn(msg, FutureWarning)\n"
     ]
    },
    {
     "data": {
      "image/png": "[encoded data removed]",
      "text/plain": [
       "<Figure size 1440x720 with 1 Axes>"
      ]
     },
     "metadata": {},
     "output_type": "display_data"
    }
   ],
   "source": [
    "prediction_train = pd.Series(data = model.predict(x_train), index = y_train.index)\n",
    "fig = plt.figure(figsize = (20,10))\n",
    "ax = fig.add_subplot(1,1,1)\n",
    "ax.plot(prediction_train, label='prediction')\n",
    "ax.plot(y_train, label='target')\n",
    "ax.set_title('Linear Regression with feature engineering - train')\n",
    "ax.legend()\n",
    "\n",
    "plt.show()"
   ]
  },
  {
   "cell_type": "code",
   "execution_count": null,
   "metadata": {},
   "outputs": [
    {
     "data": {
      "image/png": "[encoded data removed]",
      "text/plain": [
       "<Figure size 1440x720 with 1 Axes>"
      ]
     },
     "metadata": {},
     "output_type": "display_data"
    }
   ],
   "source": [
    "fig = plt.figure(figsize = (20,10))\n",
    "ax = fig.add_subplot(1,1,1)\n",
    "ax.plot(prediction, label='prediction')\n",
    "ax.plot(y_valid, label='target')\n",
    "ax.set_title('Linear Regression with feature engineering - validation')\n",
    "ax.legend()\n",
    "\n",
    "plt.show()"
   ]
  },
  {
   "cell_type": "markdown",
   "metadata": {},
   "source": [
    "마지막으로 실제 데이터와 예측 데이터 사이의 Mean Squared Error를 계산하여 출력하였다."
   ]
  },
  {
   "cell_type": "code",
   "execution_count": null,
   "metadata": {
    "scrolled": true
   },
   "outputs": [
    {
     "data": {
      "text/plain": [
       "0.14082704126787418"
      ]
     },
     "execution_count": 28,
     "metadata": {},
     "output_type": "execute_result"
    }
   ],
   "source": [
    "mse = mean_squared_error(y_valid, prediction)\n",
    "mse"
   ]
  },
  {
   "cell_type": "markdown",
   "metadata": {},
   "source": [
    "Linear Regression의 경우, 가장 기초적이고 단순하지만 강력하고 전통적인 예측 모델 중 하나이다.\n",
    "\n",
    "Training set score는 0.815, validation set score는 0.684로 준수한 성능을 내는 것을 알 수 있다.\n",
    "\n",
    "Validation set에서의 예측 그래프를 보면 통화건수의 경향과 하락폭 등을 잘 예측해낸 것을 볼 수 있다.\n",
    "\n",
    "그러나 통화건수가 상승하는 기간의 경우, 상대적으로 높은 예측값을 낸 것을 알 수 있다.\n",
    "\n",
    "통화건수가 상승하는 기간은 주말근처로, 주말에는 주로 전화주문을 통해서 자택에서 배달을 해서 식사를 하기 때문에\n",
    "\n",
    "상대적으로 높은 통화건수를 기록하게 되는 것이다. Linear Regression의 경우, 이 weekday에 대한 민감도가\n",
    "\n",
    "높다라는 것을 validation set 그래프를 통해 알 수 있다.\n",
    "\n",
    "\n",
    "다음 모델은 Ridge Regression이다."
   ]
  },
  {
   "cell_type": "markdown",
   "metadata": {},
   "source": [
    "## Model 1-2: Ridge Regression"
   ]
  },
  {
   "cell_type": "markdown",
   "metadata": {},
   "source": [
    "1. alpha값 조정"
   ]
  },
  {
   "cell_type": "code",
   "execution_count": null,
   "metadata": {},
   "outputs": [
    {
     "name": "stdout",
     "output_type": "stream",
     "text": [
      "training set score: 0.815\n",
      "validation set score: 0.687\n"
     ]
    }
   ],
   "source": [
    "#alpha=5\n",
    "from sklearn.linear_model import Ridge, Lasso\n",
    "model_ridge = Ridge(alpha=5)\n",
    "\n",
    "reg_ridge = model_ridge.fit(x_train, y_train)\n",
    "\n",
    "prediction = model_ridge.predict(x_valid)\n",
    "prediction = pd.Series(data = prediction, index = y_valid.index)\n",
    "\n",
    "train_ev = explained_variance_score(y_train, model_ridge.predict(x_train))\n",
    "print(\"training set score: {:.3f}\".format(train_ev))\n",
    "test_ev = explained_variance_score(y_valid, prediction)\n",
    "print(\"validation set score: {:.3f}\".format(test_ev))"
   ]
  },
  {
   "cell_type": "code",
   "execution_count": null,
   "metadata": {},
   "outputs": [
    {
     "name": "stdout",
     "output_type": "stream",
     "text": [
      "training set score: 0.815\n",
      "validation set score: 0.688\n"
     ]
    }
   ],
   "source": [
    "#alpha=7\n",
    "\n",
    "model_ridge = Ridge(alpha=7)\n",
    "\n",
    "reg_ridge = model_ridge.fit(x_train, y_train)\n",
    "\n",
    "prediction = model_ridge.predict(x_valid)\n",
    "prediction = pd.Series(data = prediction, index = y_valid.index)\n",
    "\n",
    "train_ev = explained_variance_score(y_train, model_ridge.predict(x_train))\n",
    "print(\"training set score: {:.3f}\".format(train_ev))\n",
    "test_ev = explained_variance_score(y_valid, prediction)\n",
    "print(\"validation set score: {:.3f}\".format(test_ev))"
   ]
  },
  {
   "cell_type": "code",
   "execution_count": null,
   "metadata": {},
   "outputs": [
    {
     "name": "stdout",
     "output_type": "stream",
     "text": [
      "training set score: 0.815\n",
      "validation set score: 0.689\n"
     ]
    }
   ],
   "source": [
    "#alpha=10\n",
    "\n",
    "model_ridge = Ridge(alpha=10)\n",
    "\n",
    "reg_ridge = model_ridge.fit(x_train, y_train)\n",
    "\n",
    "prediction = model_ridge.predict(x_valid)\n",
    "prediction = pd.Series(data = prediction, index = y_valid.index)\n",
    "\n",
    "train_ev = explained_variance_score(y_train, model_ridge.predict(x_train))\n",
    "print(\"training set score: {:.3f}\".format(train_ev))\n",
    "test_ev = explained_variance_score(y_valid, prediction)\n",
    "print(\"validation set score: {:.3f}\".format(test_ev))"
   ]
  },
  {
   "cell_type": "code",
   "execution_count": null,
   "metadata": {},
   "outputs": [
    {
     "name": "stdout",
     "output_type": "stream",
     "text": [
      "training set score: 0.815\n",
      "validation set score: 0.691\n"
     ]
    }
   ],
   "source": [
    "#alpha=15\n",
    "\n",
    "model_ridge = Ridge(alpha=15)\n",
    "\n",
    "reg_ridge = model_ridge.fit(x_train, y_train)\n",
    "\n",
    "prediction = model_ridge.predict(x_valid)\n",
    "prediction = pd.Series(data = prediction, index = y_valid.index)\n",
    "\n",
    "train_ev = explained_variance_score(y_train, model_ridge.predict(x_train))\n",
    "print(\"training set score: {:.3f}\".format(train_ev))\n",
    "test_ev = explained_variance_score(y_valid, prediction)\n",
    "print(\"validation set score: {:.3f}\".format(test_ev))"
   ]
  },
  {
   "cell_type": "code",
   "execution_count": null,
   "metadata": {},
   "outputs": [
    {
     "name": "stdout",
     "output_type": "stream",
     "text": [
      "training set score: 0.815\n",
      "validation set score: 0.693\n"
     ]
    }
   ],
   "source": [
    "#alpha=20\n",
    "\n",
    "model_ridge = Ridge(alpha=20)\n",
    "\n",
    "reg_ridge = model_ridge.fit(x_train, y_train)\n",
    "\n",
    "prediction = model_ridge.predict(x_valid)\n",
    "prediction = pd.Series(data = prediction, index = y_valid.index)\n",
    "\n",
    "train_ev = explained_variance_score(y_train, model_ridge.predict(x_train))\n",
    "print(\"training set score: {:.3f}\".format(train_ev))\n",
    "test_ev = explained_variance_score(y_valid, prediction)\n",
    "print(\"validation set score: {:.3f}\".format(test_ev))"
   ]
  },
  {
   "cell_type": "code",
   "execution_count": null,
   "metadata": {},
   "outputs": [
    {
     "name": "stdout",
     "output_type": "stream",
     "text": [
      "training set score: 0.814\n",
      "validation set score: 0.700\n"
     ]
    }
   ],
   "source": [
    "#alpha=40\n",
    "\n",
    "model_ridge = Ridge(alpha=40)\n",
    "\n",
    "reg_ridge = model_ridge.fit(x_train, y_train)\n",
    "\n",
    "prediction = model_ridge.predict(x_valid)\n",
    "prediction = pd.Series(data = prediction, index = y_valid.index)\n",
    "\n",
    "train_ev = explained_variance_score(y_train, model_ridge.predict(x_train))\n",
    "print(\"training set score: {:.3f}\".format(train_ev))\n",
    "test_ev = explained_variance_score(y_valid, prediction)\n",
    "print(\"validation set score: {:.3f}\".format(test_ev))"
   ]
  },
  {
   "cell_type": "code",
   "execution_count": null,
   "metadata": {},
   "outputs": [
    {
     "name": "stdout",
     "output_type": "stream",
     "text": [
      "한국은행 기준금리          -0.017\n",
      "평균기온(°C)            0.002\n",
      "일강수량(mm)            0.062\n",
      "평균 풍속(m/s)          0.020\n",
      "평균 상대습도(%)          0.017\n",
      "1시간 최다일사량(MJ/m2)   -0.012\n",
      "일 최심신적설(cm)         0.015\n",
      "KOSPI지수             0.024\n",
      "KOSDAQ지수           -0.040\n",
      "weekday_0          -0.248\n",
      "weekday_1          -0.177\n",
      "weekday_2          -0.137\n",
      "weekday_3          -0.104\n",
      "weekday_4           0.069\n",
      "weekday_5           0.313\n",
      "weekday_6           0.284\n",
      "prev_week_avg       0.602\n",
      "holiday             0.055\n",
      "myungjul           -0.146\n",
      "3.1793947091205934e-15\n"
     ]
    }
   ],
   "source": [
    "coef = pd.Series(data = model_ridge.coef_, index = x_train.columns)\n",
    "print(coef.to_string(float_format = (lambda x: \"{:.3f}\".format(x))))\n",
    "print(model_ridge.intercept_)"
   ]
  },
  {
   "cell_type": "markdown",
   "metadata": {},
   "source": [
    "Ridge Regression의 경우, training set score는 0.815 , validation set score는 0.689를 기록하였다.\n",
    "\n",
    "Linear Regression과 큰 차이를 보이지 않았다.\n",
    "\n",
    "\n",
    "\n",
    "다음은 Lasso Regression이다."
   ]
  },
  {
   "cell_type": "markdown",
   "metadata": {},
   "source": [
    "## Model 1-3. Lasso Regression"
   ]
  },
  {
   "cell_type": "markdown",
   "metadata": {},
   "source": [
    "1. alpha 값 조정"
   ]
  },
  {
   "cell_type": "code",
   "execution_count": null,
   "metadata": {},
   "outputs": [
    {
     "name": "stdout",
     "output_type": "stream",
     "text": [
      "training set score: 0.813\n",
      "validation set score: 0.712\n"
     ]
    }
   ],
   "source": [
    "#alpha=0.01\n",
    "model_lasso = Lasso(alpha=0.01, max_iter = 5000)\n",
    "\n",
    "reg_lasso = model_lasso.fit(x_train, y_train)\n",
    "\n",
    "prediction = model_lasso.predict(x_valid)\n",
    "prediction = pd.Series(data = prediction, index = y_valid.index)\n",
    "\n",
    "train_ev = explained_variance_score(y_train, model_lasso.predict(x_train))\n",
    "print(\"training set score: {:.3f}\".format(train_ev))\n",
    "test_ev = explained_variance_score(y_valid, prediction)\n",
    "print(\"validation set score: {:.3f}\".format(test_ev))"
   ]
  },
  {
   "cell_type": "code",
   "execution_count": null,
   "metadata": {},
   "outputs": [
    {
     "name": "stdout",
     "output_type": "stream",
     "text": [
      "training set score: 0.804\n",
      "validation set score: 0.732\n"
     ]
    }
   ],
   "source": [
    "#alpha=0.03\n",
    "model_lasso = Lasso(alpha=0.03, max_iter = 5000)\n",
    "\n",
    "reg_lasso = model_lasso.fit(x_train, y_train)\n",
    "\n",
    "prediction = model_lasso.predict(x_valid)\n",
    "prediction = pd.Series(data = prediction, index = y_valid.index)\n",
    "\n",
    "train_ev = explained_variance_score(y_train, model_lasso.predict(x_train))\n",
    "print(\"training set score: {:.3f}\".format(train_ev))\n",
    "test_ev = explained_variance_score(y_valid, prediction)\n",
    "print(\"validation set score: {:.3f}\".format(test_ev))"
   ]
  },
  {
   "cell_type": "code",
   "execution_count": null,
   "metadata": {},
   "outputs": [
    {
     "name": "stdout",
     "output_type": "stream",
     "text": [
      "training set score: 0.791\n",
      "validation set score: 0.735\n"
     ]
    }
   ],
   "source": [
    "#alpha=0.05\n",
    "model_lasso = Lasso(alpha=0.05, max_iter = 5000)\n",
    "\n",
    "reg_lasso = model_lasso.fit(x_train, y_train)\n",
    "\n",
    "prediction = model_lasso.predict(x_valid)\n",
    "prediction = pd.Series(data = prediction, index = y_valid.index)\n",
    "\n",
    "train_ev = explained_variance_score(y_train, model_lasso.predict(x_train))\n",
    "print(\"training set score: {:.3f}\".format(train_ev))\n",
    "test_ev = explained_variance_score(y_valid, prediction)\n",
    "print(\"validation set score: {:.3f}\".format(test_ev))"
   ]
  },
  {
   "cell_type": "code",
   "execution_count": null,
   "metadata": {},
   "outputs": [
    {
     "name": "stdout",
     "output_type": "stream",
     "text": [
      "training set score: 0.761\n",
      "validation set score: 0.710\n"
     ]
    }
   ],
   "source": [
    "#alpha=0.08\n",
    "model_lasso = Lasso(alpha=0.08, max_iter = 5000)\n",
    "\n",
    "reg_lasso = model_lasso.fit(x_train, y_train)\n",
    "\n",
    "prediction = model_lasso.predict(x_valid)\n",
    "prediction = pd.Series(data = prediction, index = y_valid.index)\n",
    "\n",
    "train_ev = explained_variance_score(y_train, model_lasso.predict(x_train))\n",
    "print(\"training set score: {:.3f}\".format(train_ev))\n",
    "test_ev = explained_variance_score(y_valid, prediction)\n",
    "print(\"validation set score: {:.3f}\".format(test_ev))"
   ]
  },
  {
   "cell_type": "code",
   "execution_count": null,
   "metadata": {},
   "outputs": [
    {
     "name": "stdout",
     "output_type": "stream",
     "text": [
      "한국은행 기준금리           0.000\n",
      "평균기온(°C)            0.000\n",
      "일강수량(mm)            0.000\n",
      "평균 풍속(m/s)          0.000\n",
      "평균 상대습도(%)          0.000\n",
      "1시간 최다일사량(MJ/m2)   -0.000\n",
      "일 최심신적설(cm)         0.000\n",
      "KOSPI지수             0.000\n",
      "KOSDAQ지수           -0.000\n",
      "weekday_0          -0.099\n",
      "weekday_1          -0.020\n",
      "weekday_2          -0.000\n",
      "weekday_3          -0.000\n",
      "weekday_4           0.096\n",
      "weekday_5           0.348\n",
      "weekday_6           0.316\n",
      "prev_week_avg       0.554\n",
      "holiday             0.000\n",
      "myungjul           -0.055\n",
      "2.833030496267994e-15\n"
     ]
    }
   ],
   "source": [
    "coef = pd.Series(data = model_lasso.coef_, index = x_train.columns)\n",
    "print(coef.to_string(float_format = (lambda x: \"{:.3f}\".format(x))))\n",
    "print(model_lasso.intercept_)"
   ]
  },
  {
   "cell_type": "markdown",
   "metadata": {},
   "source": [
    "Lasso Regression의 경우, training set score는 0.791 , validation set score는 0.735를 기록하였다.\n",
    "\n",
    "Linear와 Ridge Regression과 비교했을 때, validation set에 대한 score의 하락폭이 적다.\n",
    "\n",
    "이는 낮은 bias와 적정한 variance를 가지는 모델임을 의미한다.\n",
    "\n",
    "즉, Linear , Ridge Regression 보다 좋은 성능을 낸다는 것을 의미하는 것으로 해석할 수 있다."
   ]
  },
  {
   "cell_type": "markdown",
   "metadata": {},
   "source": [
    "## Model2 : MLP"
   ]
  },
  {
   "cell_type": "code",
   "execution_count": null,
   "metadata": {},
   "outputs": [],
   "source": [
    "def mlp(df_train, df_valid, n, act, mi, lr):\n",
    "    #train, test = train_test_split(df, test_size=ts)\n",
    "        \n",
    "    Mlp = MLPRegressor(activation = act, hidden_layer_sizes = (n, ),\n",
    "                        learning_rate='constant',learning_rate_init=lr,\n",
    "                        max_iter=mi)\n",
    "\n",
    "    x_train = df_train.iloc[:,1:]\n",
    "    y_train = df_train.iloc[:,0]\n",
    "\n",
    "    x_valid = df_valid.iloc[:,1:]\n",
    "    y_valid = df_valid.iloc[:,0]\n",
    "\n",
    "    Mlp.fit(x_train,y_train)\n",
    "\n",
    "    pred = Mlp.predict(x_valid)\n",
    "    varSc = explained_variance_score(y_valid, pred) #1이 최고점수\n",
    "    msle = mean_squared_log_error(y_valid, pred)\n",
    "\n",
    "    print(\"Explained variance score = %f \\nMean squared log error : %f\"\n",
    "          %(varSc, msle))\n",
    "\n",
    "    return Mlp"
   ]
  },
  {
   "cell_type": "markdown",
   "metadata": {},
   "source": [
    "Default hidden layer = 100, activation = 'relu', max_iter = 200, learning_rate = 0.001"
   ]
  },
  {
   "cell_type": "markdown",
   "metadata": {},
   "source": [
    "1. hidden layer size 조정"
   ]
  },
  {
   "cell_type": "code",
   "execution_count": null,
   "metadata": {
    "scrolled": false
   },
   "outputs": [
    {
     "name": "stdout",
     "output_type": "stream",
     "text": [
      "normalized data\n",
      "Explained variance score = 0.443019 \n",
      "Mean squared log error : 0.000977\n",
      "z score data\n",
      "Explained variance score = 0.573350 \n",
      "Mean squared log error : 0.010763\n"
     ]
    },
    {
     "name": "stderr",
     "output_type": "stream",
     "text": [
      "C:\\ProgramData\\Anaconda3\\lib\\site-packages\\sklearn\\neural_network\\multilayer_perceptron.py:566: ConvergenceWarning: Stochastic Optimizer: Maximum iterations (200) reached and the optimization hasn't converged yet.\n",
      "  % self.max_iter, ConvergenceWarning)\n"
     ]
    },
    {
     "data": {
      "text/plain": [
       "MLPRegressor(activation='relu', alpha=0.0001, batch_size='auto', beta_1=0.9,\n",
       "             beta_2=0.999, early_stopping=False, epsilon=1e-08,\n",
       "             hidden_layer_sizes=(100,), learning_rate='constant',\n",
       "             learning_rate_init=0.001, max_iter=200, momentum=0.9,\n",
       "             n_iter_no_change=10, nesterovs_momentum=True, power_t=0.5,\n",
       "             random_state=None, shuffle=True, solver='adam', tol=0.0001,\n",
       "             validation_fraction=0.1, verbose=False, warm_start=False)"
      ]
     },
     "execution_count": 42,
     "metadata": {},
     "output_type": "execute_result"
    }
   ],
   "source": [
    "#default\n",
    "print(\"normalized data\")\n",
    "mlp(train_n+1, valid_n+1, 100, 'relu', 200, 0.001)\n",
    "print(\"z score data\")\n",
    "mlp(train_z+3, valid_z+3, 100, 'relu', 200, 0.001)"
   ]
  },
  {
   "cell_type": "code",
   "execution_count": null,
   "metadata": {},
   "outputs": [
    {
     "name": "stdout",
     "output_type": "stream",
     "text": [
      "normalized data\n",
      "Explained variance score = 0.629133 \n",
      "Mean squared log error : 0.000790\n",
      "z score data\n",
      "Explained variance score = 0.561784 \n",
      "Mean squared log error : 0.021477\n"
     ]
    },
    {
     "name": "stderr",
     "output_type": "stream",
     "text": [
      "C:\\ProgramData\\Anaconda3\\lib\\site-packages\\sklearn\\neural_network\\multilayer_perceptron.py:566: ConvergenceWarning: Stochastic Optimizer: Maximum iterations (200) reached and the optimization hasn't converged yet.\n",
      "  % self.max_iter, ConvergenceWarning)\n"
     ]
    },
    {
     "data": {
      "text/plain": [
       "MLPRegressor(activation='relu', alpha=0.0001, batch_size='auto', beta_1=0.9,\n",
       "             beta_2=0.999, early_stopping=False, epsilon=1e-08,\n",
       "             hidden_layer_sizes=(500,), learning_rate='constant',\n",
       "             learning_rate_init=0.001, max_iter=200, momentum=0.9,\n",
       "             n_iter_no_change=10, nesterovs_momentum=True, power_t=0.5,\n",
       "             random_state=None, shuffle=True, solver='adam', tol=0.0001,\n",
       "             validation_fraction=0.1, verbose=False, warm_start=False)"
      ]
     },
     "execution_count": 43,
     "metadata": {},
     "output_type": "execute_result"
    }
   ],
   "source": [
    "#hideen layer size : 100 -> 500\n",
    "print(\"normalized data\")\n",
    "mlp(train_n+1, valid_n+1, 500, 'relu', 200, 0.001)\n",
    "print(\"z score data\")\n",
    "mlp(train_z+3, valid_z+3, 500, 'relu', 200, 0.001)"
   ]
  },
  {
   "cell_type": "code",
   "execution_count": null,
   "metadata": {},
   "outputs": [
    {
     "name": "stdout",
     "output_type": "stream",
     "text": [
      "normalized data\n",
      "Explained variance score = 0.606504 \n",
      "Mean squared log error : 0.000682\n",
      "z score data\n",
      "Explained variance score = 0.616956 \n",
      "Mean squared log error : 0.016853\n"
     ]
    },
    {
     "data": {
      "text/plain": [
       "MLPRegressor(activation='relu', alpha=0.0001, batch_size='auto', beta_1=0.9,\n",
       "             beta_2=0.999, early_stopping=False, epsilon=1e-08,\n",
       "             hidden_layer_sizes=(1000,), learning_rate='constant',\n",
       "             learning_rate_init=0.001, max_iter=200, momentum=0.9,\n",
       "             n_iter_no_change=10, nesterovs_momentum=True, power_t=0.5,\n",
       "             random_state=None, shuffle=True, solver='adam', tol=0.0001,\n",
       "             validation_fraction=0.1, verbose=False, warm_start=False)"
      ]
     },
     "execution_count": 44,
     "metadata": {},
     "output_type": "execute_result"
    }
   ],
   "source": [
    "#hideen layer size : 500 -> 1000\n",
    "print(\"normalized data\")\n",
    "mlp(train_n+1, valid_n+1, 1000, 'relu', 200, 0.001)\n",
    "print(\"z score data\")\n",
    "mlp(train_z+3, valid_z+3, 1000, 'relu', 200, 0.001)"
   ]
  },
  {
   "cell_type": "code",
   "execution_count": null,
   "metadata": {},
   "outputs": [
    {
     "name": "stdout",
     "output_type": "stream",
     "text": [
      "normalized data\n",
      "Explained variance score = 0.620397 \n",
      "Mean squared log error : 0.000815\n",
      "z score data\n",
      "Explained variance score = 0.526591 \n",
      "Mean squared log error : 0.019650\n"
     ]
    },
    {
     "data": {
      "text/plain": [
       "MLPRegressor(activation='relu', alpha=0.0001, batch_size='auto', beta_1=0.9,\n",
       "             beta_2=0.999, early_stopping=False, epsilon=1e-08,\n",
       "             hidden_layer_sizes=(750,), learning_rate='constant',\n",
       "             learning_rate_init=0.001, max_iter=200, momentum=0.9,\n",
       "             n_iter_no_change=10, nesterovs_momentum=True, power_t=0.5,\n",
       "             random_state=None, shuffle=True, solver='adam', tol=0.0001,\n",
       "             validation_fraction=0.1, verbose=False, warm_start=False)"
      ]
     },
     "execution_count": 45,
     "metadata": {},
     "output_type": "execute_result"
    }
   ],
   "source": [
    "#hideen layer size : 1000 -> 750\n",
    "print(\"normalized data\")\n",
    "mlp(train_n+1, valid_n+1, 750, 'relu', 200, 0.001)\n",
    "print(\"z score data\")\n",
    "mlp(train_z+3, valid_z+3, 750, 'relu', 200, 0.001)"
   ]
  },
  {
   "cell_type": "code",
   "execution_count": null,
   "metadata": {},
   "outputs": [
    {
     "name": "stdout",
     "output_type": "stream",
     "text": [
      "normalized data\n",
      "Explained variance score = 0.607110 \n",
      "Mean squared log error : 0.000490\n",
      "z score data\n",
      "Explained variance score = 0.624688 \n",
      "Mean squared log error : 0.013205\n"
     ]
    },
    {
     "data": {
      "text/plain": [
       "MLPRegressor(activation='relu', alpha=0.0001, batch_size='auto', beta_1=0.9,\n",
       "             beta_2=0.999, early_stopping=False, epsilon=1e-08,\n",
       "             hidden_layer_sizes=(625,), learning_rate='constant',\n",
       "             learning_rate_init=0.001, max_iter=200, momentum=0.9,\n",
       "             n_iter_no_change=10, nesterovs_momentum=True, power_t=0.5,\n",
       "             random_state=None, shuffle=True, solver='adam', tol=0.0001,\n",
       "             validation_fraction=0.1, verbose=False, warm_start=False)"
      ]
     },
     "execution_count": 46,
     "metadata": {},
     "output_type": "execute_result"
    }
   ],
   "source": [
    "#hideen layer size : 750 -> 625\n",
    "print(\"normalized data\")\n",
    "mlp(train_n+1, valid_n+1, 625, 'relu', 200, 0.001)\n",
    "print(\"z score data\")\n",
    "mlp(train_z+3, valid_z+3, 625, 'relu', 200, 0.001)"
   ]
  },
  {
   "cell_type": "code",
   "execution_count": null,
   "metadata": {},
   "outputs": [
    {
     "name": "stdout",
     "output_type": "stream",
     "text": [
      "normalized data\n",
      "Explained variance score = 0.647928 \n",
      "Mean squared log error : 0.000447\n",
      "z score data\n",
      "Explained variance score = 0.412398 \n",
      "Mean squared log error : 0.019884\n"
     ]
    },
    {
     "data": {
      "text/plain": [
       "MLPRegressor(activation='relu', alpha=0.0001, batch_size='auto', beta_1=0.9,\n",
       "             beta_2=0.999, early_stopping=False, epsilon=1e-08,\n",
       "             hidden_layer_sizes=(680,), learning_rate='constant',\n",
       "             learning_rate_init=0.001, max_iter=200, momentum=0.9,\n",
       "             n_iter_no_change=10, nesterovs_momentum=True, power_t=0.5,\n",
       "             random_state=None, shuffle=True, solver='adam', tol=0.0001,\n",
       "             validation_fraction=0.1, verbose=False, warm_start=False)"
      ]
     },
     "execution_count": 47,
     "metadata": {},
     "output_type": "execute_result"
    }
   ],
   "source": [
    "#hideen layer size : 625 -> 680\n",
    "print(\"normalized data\")\n",
    "mlp(train_n+1, valid_n+1, 680, 'relu', 200, 0.001)\n",
    "print(\"z score data\")\n",
    "mlp(train_z+3, valid_z+3, 680, 'relu', 200, 0.001)"
   ]
  },
  {
   "cell_type": "code",
   "execution_count": null,
   "metadata": {},
   "outputs": [
    {
     "name": "stdout",
     "output_type": "stream",
     "text": [
      "normalized data\n",
      "Explained variance score = 0.617965 \n",
      "Mean squared log error : 0.000867\n",
      "z score data\n",
      "Explained variance score = 0.616925 \n",
      "Mean squared log error : 0.013474\n"
     ]
    },
    {
     "data": {
      "text/plain": [
       "MLPRegressor(activation='relu', alpha=0.0001, batch_size='auto', beta_1=0.9,\n",
       "             beta_2=0.999, early_stopping=False, epsilon=1e-08,\n",
       "             hidden_layer_sizes=(650,), learning_rate='constant',\n",
       "             learning_rate_init=0.001, max_iter=200, momentum=0.9,\n",
       "             n_iter_no_change=10, nesterovs_momentum=True, power_t=0.5,\n",
       "             random_state=None, shuffle=True, solver='adam', tol=0.0001,\n",
       "             validation_fraction=0.1, verbose=False, warm_start=False)"
      ]
     },
     "execution_count": 48,
     "metadata": {},
     "output_type": "execute_result"
    }
   ],
   "source": [
    "#hideen layer size : 680 -> 650\n",
    "print(\"normalized data\")\n",
    "mlp(train_n+1, valid_n+1, 650, 'relu', 200, 0.001)\n",
    "print(\"z score data\")\n",
    "mlp(train_z+3, valid_z+3, 650, 'relu', 200, 0.001)"
   ]
  },
  {
   "cell_type": "code",
   "execution_count": null,
   "metadata": {},
   "outputs": [
    {
     "name": "stdout",
     "output_type": "stream",
     "text": [
      "normalized data\n",
      "Explained variance score = 0.584319 \n",
      "Mean squared log error : 0.000725\n",
      "z score data\n"
     ]
    }
   ],
   "source": [
    "#hideen layer size : 650 -> 635\n",
    "print(\"normalized data\")\n",
    "mlp(train_n+1, valid_n+1, 635, 'relu', 200, 0.001)\n",
    "print(\"z score data\")\n",
    "mlp(train_z+3, valid_z+3, 635, 'relu', 200, 0.001)"
   ]
  },
  {
   "cell_type": "markdown",
   "metadata": {},
   "source": [
    "hidden layer size 650으로 결정, 제일 결과가 잘 나옴"
   ]
  },
  {
   "cell_type": "markdown",
   "metadata": {},
   "source": [
    "2. activation 함수 결정, default 'relu'"
   ]
  },
  {
   "cell_type": "code",
   "execution_count": null,
   "metadata": {},
   "outputs": [],
   "source": [
    "#activation = relu\n",
    "print(\"normalized data\")\n",
    "mlp(train_n+1, valid_n+1, 650, 'relu', 200, 0.001)\n",
    "print(\"z score data\")\n",
    "mlp(train_z+3, valid_z+3, 650, 'relu', 200, 0.001)"
   ]
  },
  {
   "cell_type": "code",
   "execution_count": null,
   "metadata": {},
   "outputs": [],
   "source": [
    "#activation = identity\n",
    "print(\"normalized data\")\n",
    "mlp(train_n+1, valid_n+1, 650, 'identity', 200, 0.001)\n",
    "print(\"z score data\")\n",
    "mlp(train_z+3, valid_z+3, 650, 'identity', 200, 0.001)"
   ]
  },
  {
   "cell_type": "code",
   "execution_count": null,
   "metadata": {},
   "outputs": [],
   "source": [
    "#activation = logistic\n",
    "print(\"normalized data\")\n",
    "mlp(train_n+1, valid_n+1, 650, 'logistic', 200, 0.001)\n",
    "print(\"z score data\")\n",
    "mlp(train_z+3, valid_z+3, 650, 'logistic', 200, 0.001)"
   ]
  },
  {
   "cell_type": "code",
   "execution_count": null,
   "metadata": {},
   "outputs": [],
   "source": [
    "#activation = tanh\n",
    "print(\"normalized data\")\n",
    "mlp(train_n+1, valid_n+1, 650, 'tanh', 200, 0.001)\n",
    "print(\"z score data\")\n",
    "mlp(train_z+3, valid_z+3, 650, 'tanh', 200, 0.001)"
   ]
  },
  {
   "cell_type": "markdown",
   "metadata": {},
   "source": [
    "activation tanh을 사용한 결과 70퍼를 넘어서 tanh으로 채택"
   ]
  },
  {
   "cell_type": "markdown",
   "metadata": {},
   "source": [
    "3. max_iter 결정, default 200"
   ]
  },
  {
   "cell_type": "code",
   "execution_count": null,
   "metadata": {},
   "outputs": [],
   "source": [
    "#default max_iter 200\n",
    "print(\"normalized data\")\n",
    "mlp(train_n+1, valid_n+1, 650, 'tanh', 200, 0.001)\n",
    "print(\"z score data\")\n",
    "mlp(train_z+3, valid_z+3, 650, 'tanh', 200, 0.001)"
   ]
  },
  {
   "cell_type": "code",
   "execution_count": null,
   "metadata": {},
   "outputs": [],
   "source": [
    "#default max_iter 200 -> 300\n",
    "print(\"normalized data\")\n",
    "mlp(train_n+1, valid_n+1, 650, 'tanh', 300, 0.001)\n",
    "print(\"z score data\")\n",
    "mlp(train_z+3, valid_z+3, 650, 'tanh', 300, 0.001)"
   ]
  },
  {
   "cell_type": "code",
   "execution_count": null,
   "metadata": {},
   "outputs": [],
   "source": [
    "#default max_iter 300 -> 400\n",
    "print(\"normalized data\")\n",
    "mlp(train_n+1, valid_n+1, 650, 'tanh', 400, 0.001)\n",
    "print(\"z score data\")\n",
    "mlp(train_z+3, valid_z+3, 650, 'tanh', 400, 0.001)"
   ]
  },
  {
   "cell_type": "code",
   "execution_count": null,
   "metadata": {},
   "outputs": [],
   "source": [
    "#default max_iter 400 -> 350\n",
    "print(\"normalized data\")\n",
    "mlp(train_n+1, valid_n+1, 650, 'tanh', 350, 0.001)\n",
    "print(\"z score data\")\n",
    "mlp(train_z+3, valid_z+3, 650, 'tanh', 350, 0.001)"
   ]
  },
  {
   "cell_type": "code",
   "execution_count": null,
   "metadata": {},
   "outputs": [],
   "source": [
    "#default max_iter 350 -> 325\n",
    "print(\"normalized data\")\n",
    "mlp(train_n+1, valid_n+1, 650, 'tanh', 325, 0.001)\n",
    "print(\"z score data\")\n",
    "mlp(train_z+3, valid_z+3, 650, 'tanh', 325, 0.001)"
   ]
  },
  {
   "cell_type": "code",
   "execution_count": null,
   "metadata": {},
   "outputs": [],
   "source": [
    "#default max_iter 325 -> 313\n",
    "print(\"normalized data\")\n",
    "mlp(train_n+1, valid_n+1, 650, 'tanh', 313, 0.001)\n",
    "print(\"z score data\")\n",
    "mlp(train_z+3, valid_z+3, 650, 'tanh', 313, 0.001)"
   ]
  },
  {
   "cell_type": "markdown",
   "metadata": {},
   "source": [
    "max_iter는 300에서 가장 좋은 performance를 보임 300으로 결정함"
   ]
  },
  {
   "cell_type": "markdown",
   "metadata": {},
   "source": [
    "4. learning rate init 결정, default 0.001"
   ]
  },
  {
   "cell_type": "code",
   "execution_count": null,
   "metadata": {},
   "outputs": [],
   "source": [
    "#default learning rate 0.001\n",
    "print(\"normalized data\")\n",
    "mlp(train_n+1, valid_n+1, 650, 'tanh', 300, 0.001)\n",
    "print(\"z score data\")\n",
    "mlp(train_z+3, valid_z+3, 650, 'tanh', 300, 0.001)"
   ]
  },
  {
   "cell_type": "code",
   "execution_count": null,
   "metadata": {},
   "outputs": [],
   "source": [
    "#default learning rate 0.001 -> 0.002\n",
    "print(\"normalized data\")\n",
    "mlp(train_n+1, valid_n+1, 650, 'tanh', 300, 0.002)\n",
    "print(\"z score data\")\n",
    "mlp(train_z+3, valid_z+3, 650, 'tanh', 300, 0.002)"
   ]
  },
  {
   "cell_type": "code",
   "execution_count": null,
   "metadata": {},
   "outputs": [],
   "source": [
    "#default learning rate 0.002 -> 0.0005\n",
    "print(\"normalized data\")\n",
    "mlp(train_n+1, valid_n+1, 650, 'tanh', 300, 0.0005)\n",
    "print(\"z score data\")\n",
    "mlp(train_z+3, valid_z+3, 650, 'tanh', 300, 0.0005)"
   ]
  },
  {
   "cell_type": "code",
   "execution_count": null,
   "metadata": {},
   "outputs": [],
   "source": [
    "#default learning rate 0.0005 -> 0.00075\n",
    "print(\"normalized data\")\n",
    "mlp(train_n+1, valid_n+1, 650, 'tanh', 300, 0.00075)\n",
    "print(\"z score data\")\n",
    "mlp(train_z+3, valid_z+3, 650, 'tanh', 300, 0.00075)"
   ]
  },
  {
   "cell_type": "code",
   "execution_count": null,
   "metadata": {},
   "outputs": [],
   "source": [
    "#default learning rate 0.00075 -> 0.0015\n",
    "print(\"normalized data\")\n",
    "mlp(train_n+1, valid_n+1, 650, 'tanh', 300, 0.0015)\n",
    "print(\"z score data\")\n",
    "mlp(train_z+3, valid_z+3, 650, 'tanh', 300, 0.0015)"
   ]
  },
  {
   "cell_type": "code",
   "execution_count": null,
   "metadata": {},
   "outputs": [],
   "source": [
    "#default learning rate 0.0015 -> 0.00125\n",
    "print(\"normalized data\")\n",
    "mlp(train_n+1, valid_n+1, 650, 'tanh', 300, 0.0015)\n",
    "print(\"z score data\")\n",
    "mlp(train_z+3, valid_z+3, 650, 'tanh', 300, 0.0015)"
   ]
  },
  {
   "cell_type": "markdown",
   "metadata": {},
   "source": [
    "performance가 크게 변화된 구간이 없어서 default인 0.001로 결정"
   ]
  },
  {
   "cell_type": "markdown",
   "metadata": {},
   "source": [
    "최종으로 수정한 점\n",
    "1. hidden layer size : 100 -> 650\n",
    "2. activation : relu -> tanh\n",
    "3. max iteration : 200 -> 300\n",
    "4. learning rate init : 0.001 default값 그대로"
   ]
  },
  {
   "cell_type": "code",
   "execution_count": null,
   "metadata": {
    "scrolled": true
   },
   "outputs": [],
   "source": [
    "print(\"normalized data\")\n",
    "mlp_norm = mlp(train_n+1, valid_n+1, 650, 'tanh', 300, 0.001)\n",
    "print(\"z score data\")\n",
    "mlp_z = mlp(train_z+3, valid_z+3, 650, 'tanh', 300, 0.001)"
   ]
  },
  {
   "cell_type": "markdown",
   "metadata": {},
   "source": [
    "# Final model evaluation using the testing set"
   ]
  },
  {
   "cell_type": "markdown",
   "metadata": {},
   "source": [
    "여기서는 18년1월부터12월까지의 데이터인 test set을 이용해서 각 model의 성능을 측정했다."
   ]
  },
  {
   "cell_type": "code",
   "execution_count": null,
   "metadata": {},
   "outputs": [],
   "source": [
    "x_test = test_z.drop(columns = ['통화건수'])\n",
    "y_test = test_z['통화건수']"
   ]
  },
  {
   "cell_type": "markdown",
   "metadata": {},
   "source": [
    "## Linear Regression"
   ]
  },
  {
   "cell_type": "code",
   "execution_count": null,
   "metadata": {},
   "outputs": [],
   "source": [
    "prediction = model.predict(x_test)\n",
    "prediction = pd.Series(data = prediction, index = y_test.index)\n",
    "test_ev = explained_variance_score(y_test, prediction)\n",
    "print(\"testing set score: {:.3f}\".format(test_ev))"
   ]
  },
  {
   "cell_type": "markdown",
   "metadata": {},
   "source": [
    "## Ridge Regression"
   ]
  },
  {
   "cell_type": "code",
   "execution_count": null,
   "metadata": {},
   "outputs": [],
   "source": [
    "prediction = model_ridge.predict(x_test)\n",
    "prediction = pd.Series(data = prediction, index = y_test.index)\n",
    "test_ev = explained_variance_score(y_test, prediction)\n",
    "print(\"testing set score: {:.3f}\".format(test_ev))"
   ]
  },
  {
   "cell_type": "markdown",
   "metadata": {},
   "source": [
    "## LASSO"
   ]
  },
  {
   "cell_type": "code",
   "execution_count": null,
   "metadata": {},
   "outputs": [],
   "source": [
    "prediction = model_lasso.predict(x_test)\n",
    "prediction = pd.Series(data = prediction, index = y_test.index)\n",
    "test_ev = explained_variance_score(y_test, prediction)\n",
    "print(\"testing set score: {:.3f}\".format(test_ev))"
   ]
  },
  {
   "cell_type": "markdown",
   "metadata": {},
   "source": [
    "## MLP"
   ]
  },
  {
   "cell_type": "code",
   "execution_count": null,
   "metadata": {
    "scrolled": true
   },
   "outputs": [],
   "source": [
    "print(\"normalized data\")\n",
    "mlp(train_n+1, test_n+1, 650, 'tanh', 300, 0.001)\n",
    "print(\"z score data\")\n",
    "mlp(train_z+3, test_z+3, 650, 'tanh', 300, 0.001)"
   ]
  },
  {
   "cell_type": "code",
   "execution_count": null,
   "metadata": {},
   "outputs": [],
   "source": [
    "print(\"normalized data\")\n",
    "mlp(train_n+1, test_n+1, 650, 'tanh', 300, 0.001)\n",
    "print(\"z score data\")\n",
    "mlp(train_z+3, test_z+3, 650, 'tanh', 300, 0.001)"
   ]
  },
  {
   "cell_type": "markdown",
   "metadata": {},
   "source": [
    "이를 통해 LASSO와 Multi-Layer Perceptron의 성능이 가장 좋다는 것을 알 수 있다.\n",
    "MLP 특성상 매 실행마다 결과값이 다르게 나와서 LASSO 보다 낮게 나올 때가 있고 높게 나올 때가 있다.\n",
    "추후에 기회가 된다면 이 점을 보완해서 MLP로 이번 주제를 좀 더 완벽하게 해결할 수 있다고 생각한다. "
   ]
  },
  {
   "cell_type": "markdown",
   "metadata": {},
   "source": [
    "# 7. Summary\n",
    "\n",
    "### 결과 분석 \n",
    "\n",
    " 이렇게 국내 증시 상황, 기상 정보, 요일의 변화, 최근의 통화건수 평균을 통해 음식점에 올 배달주문량을 예측하는\n",
    "\n",
    "모델을 설계하고 학습시켜보았다. 예측 결과는 가장 성능이 좋은 LASSO와 MLP 모델의 경우 약 55~56% 정도의 정확도를 기록했다.\n",
    "\n",
    "이를 통해 국내 증시 상황 등의 경제적 요소와 기상 정보가 배달 주문량에 영향을 미친다는 것을 알 수 있었다.\n",
    "\n",
    "이는 곧 시장 경제에 대한 전체적인 분석으로 이어질 수 있는 중요한 정보라고 생각할 수 있다.\n",
    "\n",
    "한 편, 외식업에서 소비자로 하여금 소비를 촉진하게 하는 것은 결국 소비자의 감정상태와 깊은 연관이 있음을\n",
    "\n",
    "알 수 있는 결과이기도 하다. \n",
    "\n",
    "### 문제점\n",
    "\n",
    "이번 프로젝트에서 실현하고자 했던 결과는 자영업자, 특히 재고 관리에서 문제를 겪고 이로 인해 경영의 난이도가 높은\n",
    "\n",
    "이른바 영세상인들에게 주문량에 대한 예측을 가능하게하여 효율적인 재고관리 도구를 제공하여 많은 수의 자영업자들이\n",
    "\n",
    "최대한 경영에 난항을 겪지 않게끔 하는 것이었다. 그러나 현재 모델의 최고 성능은 55~56%대이며 이 역시 정확한 \n",
    "\n",
    "결과를 도출해내기 위해서 모델이 도출해낸 값을 denormalization하는 과정에서 실제 값과의 오류가 다소 증가할 것으로 보여진다.\n",
    "<br>\n",
    "<br>\n",
    "\n",
    "만약 이 모델을 통해 영세상인들과 배달업체간의 제휴관계에서 영세상인들에게 더 나은 경영환경을 제공하고자 한다면\n",
    "\n",
    "이 오류로 인해 발생하는 피해를 배달업체의 책임으로 돌려 보상을 받아내려는 의도로 악용될 수도 있을 것이다.\n",
    "\n",
    "하지만 이 모델의 성능은 분명 개략적인 주문량의 예측을 하는 데에 도움을 줄 수 있을 것으로 보여지기 때문에\n",
    "\n",
    "이 모델을 통해 재고 관리를 하는 데에 도움을 받는 상인이 늘어나게 되면 자연스레 지지를 받을 수 있을 것이다.\n",
    "<br>\n",
    "<br>\n",
    "\n",
    "또한, 이 모델은 최근 통화건수의 평균을 feature로 사용하기 때문에 개업한지 얼마 되지 않은 가게의 경우\n",
    "\n",
    "이 모델을 통해 주문량을 예측하는 것이 어려울 것으로 보여진다. 같은 이유로 이 프로젝트에서 해결하고자 했던 문제 중\n",
    "\n",
    "지방의 상인들의 데이터 부족에 대한 해결 역시 모델도입 및 데이터수집 초창기에는 난항을 겪을 것으로 예상된다.\n",
    "\n",
    "### 개선점\n",
    "\n",
    "이 모델의 개선점은 다음과 같다.\n",
    "\n",
    "1. 예측의 정확성\n",
    "\n",
    "아주 기초적이지만 가장 중요한 요소이다. 높은 정확도를 지닌 예측모델은 그 만큼 큰 힘을 가지기 마련이다.\n",
    "\n",
    "예측의 정확도를 높이기 위해선 배달주문과 연관된 새로운 feature의 발견이 해결책이 될 수 있을 것으로 보여진다.\n",
    "\n",
    "국내에서 인기가 높은 스포츠의 경기 일정과 특정 음식에 대한 사람들의 검색량, 광고매체에서의 광고빈도 등이\n",
    "\n",
    "새로운 feature로 쓰일 가능성이 높을 것으로 예상된다.\n",
    "<br>\n",
    "<br>\n",
    "\n",
    "2. 메뉴별 예측\n",
    "\n",
    "현재 모델에서 사용된 dataset은 메뉴를 구분하지 않고 단순히 배달주문 통화건수만을 기록해놓았다.\n",
    "\n",
    "그러나 우리나라의 정서 상, 특정 상황에서 특정 메뉴의 판매량이 늘어나는 경우가 있다.\n",
    "\n",
    "대표적으로 비가 오는 날의 부침개류가 있다. 이러한 특성들을 고려하여 메뉴별로 예측모델을\n",
    "\n",
    "다르게 하는 것이 결과적으로 모델의 성능을 높일 수 있을 것으로 기대된다.\n",
    "\n",
    "다만 그럴 경우, 음식메뉴별로 주문량을 새로 기록해야하기 때문에 이런 모델이 실현되는 것은\n",
    "\n",
    "많은 시간이 걸릴 것으로 예상된다.\n",
    "\n",
    "### 결론\n",
    "\n",
    "이번 프로젝트에서 구현한 모델은 현재로서는 이대로 바로 현실에 적용하기에는 조금 무리일 수 있다.\n",
    "\n",
    "아직 주문량의 변화에 미치는 수많은 변수들을 모두 고려하는 것도 아니고 정확도도 큰 경제적 이득을 기대하기에는 무리가 있기 때문이다. \n",
    "\n",
    "하지만 자영업자들에게는 소비자의 입장에서 예상 매출에 대해 분석을 행하는 것이 중요한 만큼 \n",
    "\n",
    "상관관계가 있을 것으로 예상한 몇개의 feature들 그리고 10년도 안되는 기간동안의 데이터로도\n",
    "\n",
    "어느정도 높은 예측률이 나온다는 점에서 시사하는 바가 크다고 생각한다.\n",
    "\n",
    "이에 조금 더 feature들이 추가하고 모델이 보정하여 user-friendly한 형태로 자영업자들에게 배포한다면\n",
    "\n",
    "예상 매출에 맞춰 계획을 짜는게 가능해져 낭비되는 자원을 줄이는데에 큰 도움이 될 것이라고 기대된다. "
   ]
  }
 ],
 "metadata": {
  "kernelspec": {
   "display_name": "Python 3",
   "language": "python",
   "name": "python3"
  },
  "language_info": {
   "codemirror_mode": {
    "name": "ipython",
    "version": 3
   },
   "file_extension": ".py",
   "mimetype": "text/x-python",
   "name": "python",
   "nbconvert_exporter": "python",
   "pygments_lexer": "ipython3",
   "version": "3.7.3"
  }
 },
 "nbformat": 4,
 "nbformat_minor": 2
}
